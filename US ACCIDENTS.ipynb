{
 "cells": [
  {
   "cell_type": "markdown",
   "id": "6f0b0d6f",
   "metadata": {},
   "source": [
    "# US ACCIDENTS"
   ]
  },
  {
   "cell_type": "markdown",
   "id": "542ca6f1",
   "metadata": {},
   "source": [
    "## About Dataset:\n",
    "### This dataset contains the number of car accidents in the US from Feb 2016 to 2021. This is a countrywide car accident dataset, which covers 49 states of the USA. The accident data are collected from February 2016 to Dec 2021.Currently, there are about 2.8 million accident records in this dataset.\n",
    "\n"
   ]
  },
  {
   "cell_type": "markdown",
   "id": "928eb3cc",
   "metadata": {},
   "source": [
    "# Importing Libraries:"
   ]
  },
  {
   "cell_type": "code",
   "execution_count": 1,
   "id": "f529157b",
   "metadata": {},
   "outputs": [],
   "source": [
    "import numpy as np\n",
    "import pandas as pd\n",
    "import seaborn as sns \n",
    "import matplotlib.pyplot as plt"
   ]
  },
  {
   "cell_type": "markdown",
   "id": "d34bd526",
   "metadata": {},
   "source": [
    "# Loading Dataset:"
   ]
  },
  {
   "cell_type": "code",
   "execution_count": 2,
   "id": "1fccd788",
   "metadata": {},
   "outputs": [],
   "source": [
    "df=pd.read_csv(r'C:\\Users\\Admin\\Downloads\\US_Accidents_Dec21_updated.csv\\US_Accidents_Dec21_updated.csv')"
   ]
  },
  {
   "cell_type": "code",
   "execution_count": 3,
   "id": "f7688ddb",
   "metadata": {},
   "outputs": [
    {
     "data": {
      "text/html": [
       "<div>\n",
       "<style scoped>\n",
       "    .dataframe tbody tr th:only-of-type {\n",
       "        vertical-align: middle;\n",
       "    }\n",
       "\n",
       "    .dataframe tbody tr th {\n",
       "        vertical-align: top;\n",
       "    }\n",
       "\n",
       "    .dataframe thead th {\n",
       "        text-align: right;\n",
       "    }\n",
       "</style>\n",
       "<table border=\"1\" class=\"dataframe\">\n",
       "  <thead>\n",
       "    <tr style=\"text-align: right;\">\n",
       "      <th></th>\n",
       "      <th>ID</th>\n",
       "      <th>Severity</th>\n",
       "      <th>Start_Time</th>\n",
       "      <th>End_Time</th>\n",
       "      <th>Start_Lat</th>\n",
       "      <th>Start_Lng</th>\n",
       "      <th>End_Lat</th>\n",
       "      <th>End_Lng</th>\n",
       "      <th>Distance(mi)</th>\n",
       "      <th>Description</th>\n",
       "      <th>...</th>\n",
       "      <th>Roundabout</th>\n",
       "      <th>Station</th>\n",
       "      <th>Stop</th>\n",
       "      <th>Traffic_Calming</th>\n",
       "      <th>Traffic_Signal</th>\n",
       "      <th>Turning_Loop</th>\n",
       "      <th>Sunrise_Sunset</th>\n",
       "      <th>Civil_Twilight</th>\n",
       "      <th>Nautical_Twilight</th>\n",
       "      <th>Astronomical_Twilight</th>\n",
       "    </tr>\n",
       "  </thead>\n",
       "  <tbody>\n",
       "    <tr>\n",
       "      <th>0</th>\n",
       "      <td>A-1</td>\n",
       "      <td>3</td>\n",
       "      <td>2016-02-08 00:37:08</td>\n",
       "      <td>2016-02-08 06:37:08</td>\n",
       "      <td>40.108910</td>\n",
       "      <td>-83.092860</td>\n",
       "      <td>40.112060</td>\n",
       "      <td>-83.031870</td>\n",
       "      <td>3.230</td>\n",
       "      <td>Between Sawmill Rd/Exit 20 and OH-315/Olentang...</td>\n",
       "      <td>...</td>\n",
       "      <td>False</td>\n",
       "      <td>False</td>\n",
       "      <td>False</td>\n",
       "      <td>False</td>\n",
       "      <td>False</td>\n",
       "      <td>False</td>\n",
       "      <td>Night</td>\n",
       "      <td>Night</td>\n",
       "      <td>Night</td>\n",
       "      <td>Night</td>\n",
       "    </tr>\n",
       "    <tr>\n",
       "      <th>1</th>\n",
       "      <td>A-2</td>\n",
       "      <td>2</td>\n",
       "      <td>2016-02-08 05:56:20</td>\n",
       "      <td>2016-02-08 11:56:20</td>\n",
       "      <td>39.865420</td>\n",
       "      <td>-84.062800</td>\n",
       "      <td>39.865010</td>\n",
       "      <td>-84.048730</td>\n",
       "      <td>0.747</td>\n",
       "      <td>At OH-4/OH-235/Exit 41 - Accident.</td>\n",
       "      <td>...</td>\n",
       "      <td>False</td>\n",
       "      <td>False</td>\n",
       "      <td>False</td>\n",
       "      <td>False</td>\n",
       "      <td>False</td>\n",
       "      <td>False</td>\n",
       "      <td>Night</td>\n",
       "      <td>Night</td>\n",
       "      <td>Night</td>\n",
       "      <td>Night</td>\n",
       "    </tr>\n",
       "    <tr>\n",
       "      <th>2</th>\n",
       "      <td>A-3</td>\n",
       "      <td>2</td>\n",
       "      <td>2016-02-08 06:15:39</td>\n",
       "      <td>2016-02-08 12:15:39</td>\n",
       "      <td>39.102660</td>\n",
       "      <td>-84.524680</td>\n",
       "      <td>39.102090</td>\n",
       "      <td>-84.523960</td>\n",
       "      <td>0.055</td>\n",
       "      <td>At I-71/US-50/Exit 1 - Accident.</td>\n",
       "      <td>...</td>\n",
       "      <td>False</td>\n",
       "      <td>False</td>\n",
       "      <td>False</td>\n",
       "      <td>False</td>\n",
       "      <td>False</td>\n",
       "      <td>False</td>\n",
       "      <td>Night</td>\n",
       "      <td>Night</td>\n",
       "      <td>Night</td>\n",
       "      <td>Day</td>\n",
       "    </tr>\n",
       "    <tr>\n",
       "      <th>3</th>\n",
       "      <td>A-4</td>\n",
       "      <td>2</td>\n",
       "      <td>2016-02-08 06:51:45</td>\n",
       "      <td>2016-02-08 12:51:45</td>\n",
       "      <td>41.062130</td>\n",
       "      <td>-81.537840</td>\n",
       "      <td>41.062170</td>\n",
       "      <td>-81.535470</td>\n",
       "      <td>0.123</td>\n",
       "      <td>At Dart Ave/Exit 21 - Accident.</td>\n",
       "      <td>...</td>\n",
       "      <td>False</td>\n",
       "      <td>False</td>\n",
       "      <td>False</td>\n",
       "      <td>False</td>\n",
       "      <td>False</td>\n",
       "      <td>False</td>\n",
       "      <td>Night</td>\n",
       "      <td>Night</td>\n",
       "      <td>Day</td>\n",
       "      <td>Day</td>\n",
       "    </tr>\n",
       "    <tr>\n",
       "      <th>4</th>\n",
       "      <td>A-5</td>\n",
       "      <td>3</td>\n",
       "      <td>2016-02-08 07:53:43</td>\n",
       "      <td>2016-02-08 13:53:43</td>\n",
       "      <td>39.172393</td>\n",
       "      <td>-84.492792</td>\n",
       "      <td>39.170476</td>\n",
       "      <td>-84.501798</td>\n",
       "      <td>0.500</td>\n",
       "      <td>At Mitchell Ave/Exit 6 - Accident.</td>\n",
       "      <td>...</td>\n",
       "      <td>False</td>\n",
       "      <td>False</td>\n",
       "      <td>False</td>\n",
       "      <td>False</td>\n",
       "      <td>False</td>\n",
       "      <td>False</td>\n",
       "      <td>Day</td>\n",
       "      <td>Day</td>\n",
       "      <td>Day</td>\n",
       "      <td>Day</td>\n",
       "    </tr>\n",
       "    <tr>\n",
       "      <th>...</th>\n",
       "      <td>...</td>\n",
       "      <td>...</td>\n",
       "      <td>...</td>\n",
       "      <td>...</td>\n",
       "      <td>...</td>\n",
       "      <td>...</td>\n",
       "      <td>...</td>\n",
       "      <td>...</td>\n",
       "      <td>...</td>\n",
       "      <td>...</td>\n",
       "      <td>...</td>\n",
       "      <td>...</td>\n",
       "      <td>...</td>\n",
       "      <td>...</td>\n",
       "      <td>...</td>\n",
       "      <td>...</td>\n",
       "      <td>...</td>\n",
       "      <td>...</td>\n",
       "      <td>...</td>\n",
       "      <td>...</td>\n",
       "      <td>...</td>\n",
       "    </tr>\n",
       "    <tr>\n",
       "      <th>2845337</th>\n",
       "      <td>A-2845338</td>\n",
       "      <td>2</td>\n",
       "      <td>2019-08-23 18:03:25</td>\n",
       "      <td>2019-08-23 18:32:01</td>\n",
       "      <td>34.002480</td>\n",
       "      <td>-117.379360</td>\n",
       "      <td>33.998880</td>\n",
       "      <td>-117.370940</td>\n",
       "      <td>0.543</td>\n",
       "      <td>At Market St - Accident.</td>\n",
       "      <td>...</td>\n",
       "      <td>False</td>\n",
       "      <td>False</td>\n",
       "      <td>False</td>\n",
       "      <td>False</td>\n",
       "      <td>False</td>\n",
       "      <td>False</td>\n",
       "      <td>Day</td>\n",
       "      <td>Day</td>\n",
       "      <td>Day</td>\n",
       "      <td>Day</td>\n",
       "    </tr>\n",
       "    <tr>\n",
       "      <th>2845338</th>\n",
       "      <td>A-2845339</td>\n",
       "      <td>2</td>\n",
       "      <td>2019-08-23 19:11:30</td>\n",
       "      <td>2019-08-23 19:38:23</td>\n",
       "      <td>32.766960</td>\n",
       "      <td>-117.148060</td>\n",
       "      <td>32.765550</td>\n",
       "      <td>-117.153630</td>\n",
       "      <td>0.338</td>\n",
       "      <td>At Camino Del Rio/Mission Center Rd - Accident.</td>\n",
       "      <td>...</td>\n",
       "      <td>False</td>\n",
       "      <td>False</td>\n",
       "      <td>False</td>\n",
       "      <td>False</td>\n",
       "      <td>False</td>\n",
       "      <td>False</td>\n",
       "      <td>Day</td>\n",
       "      <td>Day</td>\n",
       "      <td>Day</td>\n",
       "      <td>Day</td>\n",
       "    </tr>\n",
       "    <tr>\n",
       "      <th>2845339</th>\n",
       "      <td>A-2845340</td>\n",
       "      <td>2</td>\n",
       "      <td>2019-08-23 19:00:21</td>\n",
       "      <td>2019-08-23 19:28:49</td>\n",
       "      <td>33.775450</td>\n",
       "      <td>-117.847790</td>\n",
       "      <td>33.777400</td>\n",
       "      <td>-117.857270</td>\n",
       "      <td>0.561</td>\n",
       "      <td>At Glassell St/Grand Ave - Accident. in the ri...</td>\n",
       "      <td>...</td>\n",
       "      <td>False</td>\n",
       "      <td>False</td>\n",
       "      <td>False</td>\n",
       "      <td>False</td>\n",
       "      <td>False</td>\n",
       "      <td>False</td>\n",
       "      <td>Day</td>\n",
       "      <td>Day</td>\n",
       "      <td>Day</td>\n",
       "      <td>Day</td>\n",
       "    </tr>\n",
       "    <tr>\n",
       "      <th>2845340</th>\n",
       "      <td>A-2845341</td>\n",
       "      <td>2</td>\n",
       "      <td>2019-08-23 19:00:21</td>\n",
       "      <td>2019-08-23 19:29:42</td>\n",
       "      <td>33.992460</td>\n",
       "      <td>-118.403020</td>\n",
       "      <td>33.983110</td>\n",
       "      <td>-118.395650</td>\n",
       "      <td>0.772</td>\n",
       "      <td>At CA-90/Marina Fwy/Jefferson Blvd - Accident.</td>\n",
       "      <td>...</td>\n",
       "      <td>False</td>\n",
       "      <td>False</td>\n",
       "      <td>False</td>\n",
       "      <td>False</td>\n",
       "      <td>False</td>\n",
       "      <td>False</td>\n",
       "      <td>Day</td>\n",
       "      <td>Day</td>\n",
       "      <td>Day</td>\n",
       "      <td>Day</td>\n",
       "    </tr>\n",
       "    <tr>\n",
       "      <th>2845341</th>\n",
       "      <td>A-2845342</td>\n",
       "      <td>2</td>\n",
       "      <td>2019-08-23 18:52:06</td>\n",
       "      <td>2019-08-23 19:21:31</td>\n",
       "      <td>34.133930</td>\n",
       "      <td>-117.230920</td>\n",
       "      <td>34.137360</td>\n",
       "      <td>-117.239340</td>\n",
       "      <td>0.537</td>\n",
       "      <td>At Highland Ave/Arden Ave - Accident.</td>\n",
       "      <td>...</td>\n",
       "      <td>False</td>\n",
       "      <td>False</td>\n",
       "      <td>False</td>\n",
       "      <td>False</td>\n",
       "      <td>False</td>\n",
       "      <td>False</td>\n",
       "      <td>Day</td>\n",
       "      <td>Day</td>\n",
       "      <td>Day</td>\n",
       "      <td>Day</td>\n",
       "    </tr>\n",
       "  </tbody>\n",
       "</table>\n",
       "<p>2845342 rows × 47 columns</p>\n",
       "</div>"
      ],
      "text/plain": [
       "                ID  Severity           Start_Time             End_Time  \\\n",
       "0              A-1         3  2016-02-08 00:37:08  2016-02-08 06:37:08   \n",
       "1              A-2         2  2016-02-08 05:56:20  2016-02-08 11:56:20   \n",
       "2              A-3         2  2016-02-08 06:15:39  2016-02-08 12:15:39   \n",
       "3              A-4         2  2016-02-08 06:51:45  2016-02-08 12:51:45   \n",
       "4              A-5         3  2016-02-08 07:53:43  2016-02-08 13:53:43   \n",
       "...            ...       ...                  ...                  ...   \n",
       "2845337  A-2845338         2  2019-08-23 18:03:25  2019-08-23 18:32:01   \n",
       "2845338  A-2845339         2  2019-08-23 19:11:30  2019-08-23 19:38:23   \n",
       "2845339  A-2845340         2  2019-08-23 19:00:21  2019-08-23 19:28:49   \n",
       "2845340  A-2845341         2  2019-08-23 19:00:21  2019-08-23 19:29:42   \n",
       "2845341  A-2845342         2  2019-08-23 18:52:06  2019-08-23 19:21:31   \n",
       "\n",
       "         Start_Lat   Start_Lng    End_Lat     End_Lng  Distance(mi)  \\\n",
       "0        40.108910  -83.092860  40.112060  -83.031870         3.230   \n",
       "1        39.865420  -84.062800  39.865010  -84.048730         0.747   \n",
       "2        39.102660  -84.524680  39.102090  -84.523960         0.055   \n",
       "3        41.062130  -81.537840  41.062170  -81.535470         0.123   \n",
       "4        39.172393  -84.492792  39.170476  -84.501798         0.500   \n",
       "...            ...         ...        ...         ...           ...   \n",
       "2845337  34.002480 -117.379360  33.998880 -117.370940         0.543   \n",
       "2845338  32.766960 -117.148060  32.765550 -117.153630         0.338   \n",
       "2845339  33.775450 -117.847790  33.777400 -117.857270         0.561   \n",
       "2845340  33.992460 -118.403020  33.983110 -118.395650         0.772   \n",
       "2845341  34.133930 -117.230920  34.137360 -117.239340         0.537   \n",
       "\n",
       "                                               Description  ...  Roundabout  \\\n",
       "0        Between Sawmill Rd/Exit 20 and OH-315/Olentang...  ...       False   \n",
       "1                       At OH-4/OH-235/Exit 41 - Accident.  ...       False   \n",
       "2                         At I-71/US-50/Exit 1 - Accident.  ...       False   \n",
       "3                          At Dart Ave/Exit 21 - Accident.  ...       False   \n",
       "4                       At Mitchell Ave/Exit 6 - Accident.  ...       False   \n",
       "...                                                    ...  ...         ...   \n",
       "2845337                           At Market St - Accident.  ...       False   \n",
       "2845338    At Camino Del Rio/Mission Center Rd - Accident.  ...       False   \n",
       "2845339  At Glassell St/Grand Ave - Accident. in the ri...  ...       False   \n",
       "2845340     At CA-90/Marina Fwy/Jefferson Blvd - Accident.  ...       False   \n",
       "2845341              At Highland Ave/Arden Ave - Accident.  ...       False   \n",
       "\n",
       "        Station   Stop Traffic_Calming Traffic_Signal Turning_Loop  \\\n",
       "0         False  False           False          False        False   \n",
       "1         False  False           False          False        False   \n",
       "2         False  False           False          False        False   \n",
       "3         False  False           False          False        False   \n",
       "4         False  False           False          False        False   \n",
       "...         ...    ...             ...            ...          ...   \n",
       "2845337   False  False           False          False        False   \n",
       "2845338   False  False           False          False        False   \n",
       "2845339   False  False           False          False        False   \n",
       "2845340   False  False           False          False        False   \n",
       "2845341   False  False           False          False        False   \n",
       "\n",
       "        Sunrise_Sunset Civil_Twilight Nautical_Twilight Astronomical_Twilight  \n",
       "0                Night          Night             Night                 Night  \n",
       "1                Night          Night             Night                 Night  \n",
       "2                Night          Night             Night                   Day  \n",
       "3                Night          Night               Day                   Day  \n",
       "4                  Day            Day               Day                   Day  \n",
       "...                ...            ...               ...                   ...  \n",
       "2845337            Day            Day               Day                   Day  \n",
       "2845338            Day            Day               Day                   Day  \n",
       "2845339            Day            Day               Day                   Day  \n",
       "2845340            Day            Day               Day                   Day  \n",
       "2845341            Day            Day               Day                   Day  \n",
       "\n",
       "[2845342 rows x 47 columns]"
      ]
     },
     "execution_count": 3,
     "metadata": {},
     "output_type": "execute_result"
    }
   ],
   "source": [
    "df"
   ]
  },
  {
   "cell_type": "markdown",
   "id": "110b9f56",
   "metadata": {},
   "source": [
    "# Reading Dataset:"
   ]
  },
  {
   "cell_type": "markdown",
   "id": "06c79562",
   "metadata": {},
   "source": [
    "## Checking number of rows and columns:"
   ]
  },
  {
   "cell_type": "code",
   "execution_count": 4,
   "id": "3df20ebf",
   "metadata": {},
   "outputs": [
    {
     "data": {
      "text/plain": [
       "(2845342, 47)"
      ]
     },
     "execution_count": 4,
     "metadata": {},
     "output_type": "execute_result"
    }
   ],
   "source": [
    "df.shape"
   ]
  },
  {
   "cell_type": "markdown",
   "id": "ae8bfc3a",
   "metadata": {},
   "source": [
    "###  This dataset consist of 2845342 rows , 47 colums"
   ]
  },
  {
   "cell_type": "code",
   "execution_count": 5,
   "id": "c4cbc529",
   "metadata": {},
   "outputs": [
    {
     "name": "stdout",
     "output_type": "stream",
     "text": [
      "<class 'pandas.core.frame.DataFrame'>\n",
      "RangeIndex: 2845342 entries, 0 to 2845341\n",
      "Data columns (total 47 columns):\n",
      " #   Column                 Dtype  \n",
      "---  ------                 -----  \n",
      " 0   ID                     object \n",
      " 1   Severity               int64  \n",
      " 2   Start_Time             object \n",
      " 3   End_Time               object \n",
      " 4   Start_Lat              float64\n",
      " 5   Start_Lng              float64\n",
      " 6   End_Lat                float64\n",
      " 7   End_Lng                float64\n",
      " 8   Distance(mi)           float64\n",
      " 9   Description            object \n",
      " 10  Number                 float64\n",
      " 11  Street                 object \n",
      " 12  Side                   object \n",
      " 13  City                   object \n",
      " 14  County                 object \n",
      " 15  State                  object \n",
      " 16  Zipcode                object \n",
      " 17  Country                object \n",
      " 18  Timezone               object \n",
      " 19  Airport_Code           object \n",
      " 20  Weather_Timestamp      object \n",
      " 21  Temperature(F)         float64\n",
      " 22  Wind_Chill(F)          float64\n",
      " 23  Humidity(%)            float64\n",
      " 24  Pressure(in)           float64\n",
      " 25  Visibility(mi)         float64\n",
      " 26  Wind_Direction         object \n",
      " 27  Wind_Speed(mph)        float64\n",
      " 28  Precipitation(in)      float64\n",
      " 29  Weather_Condition      object \n",
      " 30  Amenity                bool   \n",
      " 31  Bump                   bool   \n",
      " 32  Crossing               bool   \n",
      " 33  Give_Way               bool   \n",
      " 34  Junction               bool   \n",
      " 35  No_Exit                bool   \n",
      " 36  Railway                bool   \n",
      " 37  Roundabout             bool   \n",
      " 38  Station                bool   \n",
      " 39  Stop                   bool   \n",
      " 40  Traffic_Calming        bool   \n",
      " 41  Traffic_Signal         bool   \n",
      " 42  Turning_Loop           bool   \n",
      " 43  Sunrise_Sunset         object \n",
      " 44  Civil_Twilight         object \n",
      " 45  Nautical_Twilight      object \n",
      " 46  Astronomical_Twilight  object \n",
      "dtypes: bool(13), float64(13), int64(1), object(20)\n",
      "memory usage: 773.4+ MB\n"
     ]
    }
   ],
   "source": [
    "df.info()"
   ]
  },
  {
   "cell_type": "code",
   "execution_count": 6,
   "id": "535f1b81",
   "metadata": {},
   "outputs": [
    {
     "data": {
      "text/html": [
       "<div>\n",
       "<style scoped>\n",
       "    .dataframe tbody tr th:only-of-type {\n",
       "        vertical-align: middle;\n",
       "    }\n",
       "\n",
       "    .dataframe tbody tr th {\n",
       "        vertical-align: top;\n",
       "    }\n",
       "\n",
       "    .dataframe thead th {\n",
       "        text-align: right;\n",
       "    }\n",
       "</style>\n",
       "<table border=\"1\" class=\"dataframe\">\n",
       "  <thead>\n",
       "    <tr style=\"text-align: right;\">\n",
       "      <th></th>\n",
       "      <th>Severity</th>\n",
       "      <th>Start_Lat</th>\n",
       "      <th>Start_Lng</th>\n",
       "      <th>End_Lat</th>\n",
       "      <th>End_Lng</th>\n",
       "      <th>Distance(mi)</th>\n",
       "      <th>Number</th>\n",
       "      <th>Temperature(F)</th>\n",
       "      <th>Wind_Chill(F)</th>\n",
       "      <th>Humidity(%)</th>\n",
       "      <th>Pressure(in)</th>\n",
       "      <th>Visibility(mi)</th>\n",
       "      <th>Wind_Speed(mph)</th>\n",
       "      <th>Precipitation(in)</th>\n",
       "    </tr>\n",
       "  </thead>\n",
       "  <tbody>\n",
       "    <tr>\n",
       "      <th>count</th>\n",
       "      <td>2.845342e+06</td>\n",
       "      <td>2.845342e+06</td>\n",
       "      <td>2.845342e+06</td>\n",
       "      <td>2.845342e+06</td>\n",
       "      <td>2.845342e+06</td>\n",
       "      <td>2.845342e+06</td>\n",
       "      <td>1.101431e+06</td>\n",
       "      <td>2.776068e+06</td>\n",
       "      <td>2.375699e+06</td>\n",
       "      <td>2.772250e+06</td>\n",
       "      <td>2.786142e+06</td>\n",
       "      <td>2.774796e+06</td>\n",
       "      <td>2.687398e+06</td>\n",
       "      <td>2.295884e+06</td>\n",
       "    </tr>\n",
       "    <tr>\n",
       "      <th>mean</th>\n",
       "      <td>2.137572e+00</td>\n",
       "      <td>3.624520e+01</td>\n",
       "      <td>-9.711463e+01</td>\n",
       "      <td>3.624532e+01</td>\n",
       "      <td>-9.711439e+01</td>\n",
       "      <td>7.026779e-01</td>\n",
       "      <td>8.089408e+03</td>\n",
       "      <td>6.179356e+01</td>\n",
       "      <td>5.965823e+01</td>\n",
       "      <td>6.436545e+01</td>\n",
       "      <td>2.947234e+01</td>\n",
       "      <td>9.099391e+00</td>\n",
       "      <td>7.395044e+00</td>\n",
       "      <td>7.016940e-03</td>\n",
       "    </tr>\n",
       "    <tr>\n",
       "      <th>std</th>\n",
       "      <td>4.787216e-01</td>\n",
       "      <td>5.363797e+00</td>\n",
       "      <td>1.831782e+01</td>\n",
       "      <td>5.363873e+00</td>\n",
       "      <td>1.831763e+01</td>\n",
       "      <td>1.560361e+00</td>\n",
       "      <td>1.836009e+04</td>\n",
       "      <td>1.862263e+01</td>\n",
       "      <td>2.116097e+01</td>\n",
       "      <td>2.287457e+01</td>\n",
       "      <td>1.045286e+00</td>\n",
       "      <td>2.717546e+00</td>\n",
       "      <td>5.527454e+00</td>\n",
       "      <td>9.348831e-02</td>\n",
       "    </tr>\n",
       "    <tr>\n",
       "      <th>min</th>\n",
       "      <td>1.000000e+00</td>\n",
       "      <td>2.456603e+01</td>\n",
       "      <td>-1.245481e+02</td>\n",
       "      <td>2.456601e+01</td>\n",
       "      <td>-1.245457e+02</td>\n",
       "      <td>0.000000e+00</td>\n",
       "      <td>0.000000e+00</td>\n",
       "      <td>-8.900000e+01</td>\n",
       "      <td>-8.900000e+01</td>\n",
       "      <td>1.000000e+00</td>\n",
       "      <td>0.000000e+00</td>\n",
       "      <td>0.000000e+00</td>\n",
       "      <td>0.000000e+00</td>\n",
       "      <td>0.000000e+00</td>\n",
       "    </tr>\n",
       "    <tr>\n",
       "      <th>25%</th>\n",
       "      <td>2.000000e+00</td>\n",
       "      <td>3.344517e+01</td>\n",
       "      <td>-1.180331e+02</td>\n",
       "      <td>3.344628e+01</td>\n",
       "      <td>-1.180333e+02</td>\n",
       "      <td>5.200000e-02</td>\n",
       "      <td>1.270000e+03</td>\n",
       "      <td>5.000000e+01</td>\n",
       "      <td>4.600000e+01</td>\n",
       "      <td>4.800000e+01</td>\n",
       "      <td>2.931000e+01</td>\n",
       "      <td>1.000000e+01</td>\n",
       "      <td>3.500000e+00</td>\n",
       "      <td>0.000000e+00</td>\n",
       "    </tr>\n",
       "    <tr>\n",
       "      <th>50%</th>\n",
       "      <td>2.000000e+00</td>\n",
       "      <td>3.609861e+01</td>\n",
       "      <td>-9.241808e+01</td>\n",
       "      <td>3.609799e+01</td>\n",
       "      <td>-9.241772e+01</td>\n",
       "      <td>2.440000e-01</td>\n",
       "      <td>4.007000e+03</td>\n",
       "      <td>6.400000e+01</td>\n",
       "      <td>6.300000e+01</td>\n",
       "      <td>6.700000e+01</td>\n",
       "      <td>2.982000e+01</td>\n",
       "      <td>1.000000e+01</td>\n",
       "      <td>7.000000e+00</td>\n",
       "      <td>0.000000e+00</td>\n",
       "    </tr>\n",
       "    <tr>\n",
       "      <th>75%</th>\n",
       "      <td>2.000000e+00</td>\n",
       "      <td>4.016024e+01</td>\n",
       "      <td>-8.037243e+01</td>\n",
       "      <td>4.016105e+01</td>\n",
       "      <td>-8.037338e+01</td>\n",
       "      <td>7.640000e-01</td>\n",
       "      <td>9.567000e+03</td>\n",
       "      <td>7.600000e+01</td>\n",
       "      <td>7.600000e+01</td>\n",
       "      <td>8.300000e+01</td>\n",
       "      <td>3.001000e+01</td>\n",
       "      <td>1.000000e+01</td>\n",
       "      <td>1.000000e+01</td>\n",
       "      <td>0.000000e+00</td>\n",
       "    </tr>\n",
       "    <tr>\n",
       "      <th>max</th>\n",
       "      <td>4.000000e+00</td>\n",
       "      <td>4.900058e+01</td>\n",
       "      <td>-6.711317e+01</td>\n",
       "      <td>4.907500e+01</td>\n",
       "      <td>-6.710924e+01</td>\n",
       "      <td>1.551860e+02</td>\n",
       "      <td>9.999997e+06</td>\n",
       "      <td>1.960000e+02</td>\n",
       "      <td>1.960000e+02</td>\n",
       "      <td>1.000000e+02</td>\n",
       "      <td>5.890000e+01</td>\n",
       "      <td>1.400000e+02</td>\n",
       "      <td>1.087000e+03</td>\n",
       "      <td>2.400000e+01</td>\n",
       "    </tr>\n",
       "  </tbody>\n",
       "</table>\n",
       "</div>"
      ],
      "text/plain": [
       "           Severity     Start_Lat     Start_Lng       End_Lat       End_Lng  \\\n",
       "count  2.845342e+06  2.845342e+06  2.845342e+06  2.845342e+06  2.845342e+06   \n",
       "mean   2.137572e+00  3.624520e+01 -9.711463e+01  3.624532e+01 -9.711439e+01   \n",
       "std    4.787216e-01  5.363797e+00  1.831782e+01  5.363873e+00  1.831763e+01   \n",
       "min    1.000000e+00  2.456603e+01 -1.245481e+02  2.456601e+01 -1.245457e+02   \n",
       "25%    2.000000e+00  3.344517e+01 -1.180331e+02  3.344628e+01 -1.180333e+02   \n",
       "50%    2.000000e+00  3.609861e+01 -9.241808e+01  3.609799e+01 -9.241772e+01   \n",
       "75%    2.000000e+00  4.016024e+01 -8.037243e+01  4.016105e+01 -8.037338e+01   \n",
       "max    4.000000e+00  4.900058e+01 -6.711317e+01  4.907500e+01 -6.710924e+01   \n",
       "\n",
       "       Distance(mi)        Number  Temperature(F)  Wind_Chill(F)  \\\n",
       "count  2.845342e+06  1.101431e+06    2.776068e+06   2.375699e+06   \n",
       "mean   7.026779e-01  8.089408e+03    6.179356e+01   5.965823e+01   \n",
       "std    1.560361e+00  1.836009e+04    1.862263e+01   2.116097e+01   \n",
       "min    0.000000e+00  0.000000e+00   -8.900000e+01  -8.900000e+01   \n",
       "25%    5.200000e-02  1.270000e+03    5.000000e+01   4.600000e+01   \n",
       "50%    2.440000e-01  4.007000e+03    6.400000e+01   6.300000e+01   \n",
       "75%    7.640000e-01  9.567000e+03    7.600000e+01   7.600000e+01   \n",
       "max    1.551860e+02  9.999997e+06    1.960000e+02   1.960000e+02   \n",
       "\n",
       "        Humidity(%)  Pressure(in)  Visibility(mi)  Wind_Speed(mph)  \\\n",
       "count  2.772250e+06  2.786142e+06    2.774796e+06     2.687398e+06   \n",
       "mean   6.436545e+01  2.947234e+01    9.099391e+00     7.395044e+00   \n",
       "std    2.287457e+01  1.045286e+00    2.717546e+00     5.527454e+00   \n",
       "min    1.000000e+00  0.000000e+00    0.000000e+00     0.000000e+00   \n",
       "25%    4.800000e+01  2.931000e+01    1.000000e+01     3.500000e+00   \n",
       "50%    6.700000e+01  2.982000e+01    1.000000e+01     7.000000e+00   \n",
       "75%    8.300000e+01  3.001000e+01    1.000000e+01     1.000000e+01   \n",
       "max    1.000000e+02  5.890000e+01    1.400000e+02     1.087000e+03   \n",
       "\n",
       "       Precipitation(in)  \n",
       "count       2.295884e+06  \n",
       "mean        7.016940e-03  \n",
       "std         9.348831e-02  \n",
       "min         0.000000e+00  \n",
       "25%         0.000000e+00  \n",
       "50%         0.000000e+00  \n",
       "75%         0.000000e+00  \n",
       "max         2.400000e+01  "
      ]
     },
     "execution_count": 6,
     "metadata": {},
     "output_type": "execute_result"
    }
   ],
   "source": [
    "df.describe()"
   ]
  },
  {
   "cell_type": "code",
   "execution_count": 7,
   "id": "eb028c3d",
   "metadata": {},
   "outputs": [
    {
     "data": {
      "text/html": [
       "<div>\n",
       "<style scoped>\n",
       "    .dataframe tbody tr th:only-of-type {\n",
       "        vertical-align: middle;\n",
       "    }\n",
       "\n",
       "    .dataframe tbody tr th {\n",
       "        vertical-align: top;\n",
       "    }\n",
       "\n",
       "    .dataframe thead th {\n",
       "        text-align: right;\n",
       "    }\n",
       "</style>\n",
       "<table border=\"1\" class=\"dataframe\">\n",
       "  <thead>\n",
       "    <tr style=\"text-align: right;\">\n",
       "      <th></th>\n",
       "      <th>Severity</th>\n",
       "      <th>Start_Lat</th>\n",
       "      <th>Start_Lng</th>\n",
       "      <th>End_Lat</th>\n",
       "      <th>End_Lng</th>\n",
       "      <th>Distance(mi)</th>\n",
       "      <th>Number</th>\n",
       "      <th>Temperature(F)</th>\n",
       "      <th>Wind_Chill(F)</th>\n",
       "      <th>Humidity(%)</th>\n",
       "      <th>...</th>\n",
       "      <th>Give_Way</th>\n",
       "      <th>Junction</th>\n",
       "      <th>No_Exit</th>\n",
       "      <th>Railway</th>\n",
       "      <th>Roundabout</th>\n",
       "      <th>Station</th>\n",
       "      <th>Stop</th>\n",
       "      <th>Traffic_Calming</th>\n",
       "      <th>Traffic_Signal</th>\n",
       "      <th>Turning_Loop</th>\n",
       "    </tr>\n",
       "  </thead>\n",
       "  <tbody>\n",
       "    <tr>\n",
       "      <th>Severity</th>\n",
       "      <td>1.000000</td>\n",
       "      <td>0.089207</td>\n",
       "      <td>0.114063</td>\n",
       "      <td>0.089209</td>\n",
       "      <td>0.114064</td>\n",
       "      <td>0.092140</td>\n",
       "      <td>-0.000689</td>\n",
       "      <td>-0.045335</td>\n",
       "      <td>-0.097459</td>\n",
       "      <td>0.037802</td>\n",
       "      <td>...</td>\n",
       "      <td>0.008141</td>\n",
       "      <td>0.045928</td>\n",
       "      <td>-0.002359</td>\n",
       "      <td>-0.001747</td>\n",
       "      <td>-0.000773</td>\n",
       "      <td>-0.018017</td>\n",
       "      <td>-0.002536</td>\n",
       "      <td>-0.003009</td>\n",
       "      <td>-0.012798</td>\n",
       "      <td>NaN</td>\n",
       "    </tr>\n",
       "    <tr>\n",
       "      <th>Start_Lat</th>\n",
       "      <td>0.089207</td>\n",
       "      <td>1.000000</td>\n",
       "      <td>-0.154965</td>\n",
       "      <td>0.999995</td>\n",
       "      <td>-0.154962</td>\n",
       "      <td>0.071588</td>\n",
       "      <td>0.101281</td>\n",
       "      <td>-0.475065</td>\n",
       "      <td>-0.505567</td>\n",
       "      <td>0.005876</td>\n",
       "      <td>...</td>\n",
       "      <td>0.007851</td>\n",
       "      <td>0.043628</td>\n",
       "      <td>-0.017348</td>\n",
       "      <td>0.003184</td>\n",
       "      <td>-0.003366</td>\n",
       "      <td>-0.107697</td>\n",
       "      <td>0.010817</td>\n",
       "      <td>-0.003164</td>\n",
       "      <td>-0.058208</td>\n",
       "      <td>NaN</td>\n",
       "    </tr>\n",
       "    <tr>\n",
       "      <th>Start_Lng</th>\n",
       "      <td>0.114063</td>\n",
       "      <td>-0.154965</td>\n",
       "      <td>1.000000</td>\n",
       "      <td>-0.154956</td>\n",
       "      <td>0.999999</td>\n",
       "      <td>0.039861</td>\n",
       "      <td>-0.170566</td>\n",
       "      <td>0.032159</td>\n",
       "      <td>0.010849</td>\n",
       "      <td>0.170909</td>\n",
       "      <td>...</td>\n",
       "      <td>0.018110</td>\n",
       "      <td>-0.017202</td>\n",
       "      <td>0.006220</td>\n",
       "      <td>-0.015450</td>\n",
       "      <td>0.000450</td>\n",
       "      <td>0.038533</td>\n",
       "      <td>-0.040265</td>\n",
       "      <td>-0.007750</td>\n",
       "      <td>0.059568</td>\n",
       "      <td>NaN</td>\n",
       "    </tr>\n",
       "    <tr>\n",
       "      <th>End_Lat</th>\n",
       "      <td>0.089209</td>\n",
       "      <td>0.999995</td>\n",
       "      <td>-0.154956</td>\n",
       "      <td>1.000000</td>\n",
       "      <td>-0.154953</td>\n",
       "      <td>0.071593</td>\n",
       "      <td>0.101270</td>\n",
       "      <td>-0.475058</td>\n",
       "      <td>-0.505561</td>\n",
       "      <td>0.005869</td>\n",
       "      <td>...</td>\n",
       "      <td>0.007840</td>\n",
       "      <td>0.043621</td>\n",
       "      <td>-0.017347</td>\n",
       "      <td>0.003184</td>\n",
       "      <td>-0.003366</td>\n",
       "      <td>-0.107696</td>\n",
       "      <td>0.010827</td>\n",
       "      <td>-0.003163</td>\n",
       "      <td>-0.058210</td>\n",
       "      <td>NaN</td>\n",
       "    </tr>\n",
       "    <tr>\n",
       "      <th>End_Lng</th>\n",
       "      <td>0.114064</td>\n",
       "      <td>-0.154962</td>\n",
       "      <td>0.999999</td>\n",
       "      <td>-0.154953</td>\n",
       "      <td>1.000000</td>\n",
       "      <td>0.039830</td>\n",
       "      <td>-0.170563</td>\n",
       "      <td>0.032163</td>\n",
       "      <td>0.010852</td>\n",
       "      <td>0.170904</td>\n",
       "      <td>...</td>\n",
       "      <td>0.018110</td>\n",
       "      <td>-0.017199</td>\n",
       "      <td>0.006220</td>\n",
       "      <td>-0.015449</td>\n",
       "      <td>0.000450</td>\n",
       "      <td>0.038533</td>\n",
       "      <td>-0.040264</td>\n",
       "      <td>-0.007750</td>\n",
       "      <td>0.059566</td>\n",
       "      <td>NaN</td>\n",
       "    </tr>\n",
       "    <tr>\n",
       "      <th>Distance(mi)</th>\n",
       "      <td>0.092140</td>\n",
       "      <td>0.071588</td>\n",
       "      <td>0.039861</td>\n",
       "      <td>0.071593</td>\n",
       "      <td>0.039830</td>\n",
       "      <td>1.000000</td>\n",
       "      <td>0.067331</td>\n",
       "      <td>-0.051212</td>\n",
       "      <td>-0.060094</td>\n",
       "      <td>0.026860</td>\n",
       "      <td>...</td>\n",
       "      <td>-0.006655</td>\n",
       "      <td>0.022442</td>\n",
       "      <td>-0.010184</td>\n",
       "      <td>-0.021462</td>\n",
       "      <td>-0.002491</td>\n",
       "      <td>-0.052826</td>\n",
       "      <td>-0.027108</td>\n",
       "      <td>-0.007322</td>\n",
       "      <td>-0.105722</td>\n",
       "      <td>NaN</td>\n",
       "    </tr>\n",
       "    <tr>\n",
       "      <th>Number</th>\n",
       "      <td>-0.000689</td>\n",
       "      <td>0.101281</td>\n",
       "      <td>-0.170566</td>\n",
       "      <td>0.101270</td>\n",
       "      <td>-0.170563</td>\n",
       "      <td>0.067331</td>\n",
       "      <td>1.000000</td>\n",
       "      <td>-0.051146</td>\n",
       "      <td>-0.049400</td>\n",
       "      <td>0.015825</td>\n",
       "      <td>...</td>\n",
       "      <td>-0.003792</td>\n",
       "      <td>-0.010801</td>\n",
       "      <td>-0.005052</td>\n",
       "      <td>-0.013668</td>\n",
       "      <td>-0.001360</td>\n",
       "      <td>-0.028485</td>\n",
       "      <td>-0.003688</td>\n",
       "      <td>-0.005075</td>\n",
       "      <td>-0.058870</td>\n",
       "      <td>NaN</td>\n",
       "    </tr>\n",
       "    <tr>\n",
       "      <th>Temperature(F)</th>\n",
       "      <td>-0.045335</td>\n",
       "      <td>-0.475065</td>\n",
       "      <td>0.032159</td>\n",
       "      <td>-0.475058</td>\n",
       "      <td>0.032163</td>\n",
       "      <td>-0.051212</td>\n",
       "      <td>-0.051146</td>\n",
       "      <td>1.000000</td>\n",
       "      <td>0.993857</td>\n",
       "      <td>-0.366527</td>\n",
       "      <td>...</td>\n",
       "      <td>-0.005524</td>\n",
       "      <td>-0.020358</td>\n",
       "      <td>0.011610</td>\n",
       "      <td>0.003108</td>\n",
       "      <td>0.002122</td>\n",
       "      <td>0.061248</td>\n",
       "      <td>0.000021</td>\n",
       "      <td>0.005672</td>\n",
       "      <td>0.047657</td>\n",
       "      <td>NaN</td>\n",
       "    </tr>\n",
       "    <tr>\n",
       "      <th>Wind_Chill(F)</th>\n",
       "      <td>-0.097459</td>\n",
       "      <td>-0.505567</td>\n",
       "      <td>0.010849</td>\n",
       "      <td>-0.505561</td>\n",
       "      <td>0.010852</td>\n",
       "      <td>-0.060094</td>\n",
       "      <td>-0.049400</td>\n",
       "      <td>0.993857</td>\n",
       "      <td>1.000000</td>\n",
       "      <td>-0.346028</td>\n",
       "      <td>...</td>\n",
       "      <td>-0.007584</td>\n",
       "      <td>-0.048784</td>\n",
       "      <td>0.012066</td>\n",
       "      <td>0.005062</td>\n",
       "      <td>0.002466</td>\n",
       "      <td>0.069379</td>\n",
       "      <td>0.005424</td>\n",
       "      <td>0.007140</td>\n",
       "      <td>0.048321</td>\n",
       "      <td>NaN</td>\n",
       "    </tr>\n",
       "    <tr>\n",
       "      <th>Humidity(%)</th>\n",
       "      <td>0.037802</td>\n",
       "      <td>0.005876</td>\n",
       "      <td>0.170909</td>\n",
       "      <td>0.005869</td>\n",
       "      <td>0.170904</td>\n",
       "      <td>0.026860</td>\n",
       "      <td>0.015825</td>\n",
       "      <td>-0.366527</td>\n",
       "      <td>-0.346028</td>\n",
       "      <td>1.000000</td>\n",
       "      <td>...</td>\n",
       "      <td>0.000063</td>\n",
       "      <td>0.006394</td>\n",
       "      <td>-0.007099</td>\n",
       "      <td>-0.000309</td>\n",
       "      <td>0.000904</td>\n",
       "      <td>-0.000095</td>\n",
       "      <td>-0.015631</td>\n",
       "      <td>-0.005727</td>\n",
       "      <td>-0.034133</td>\n",
       "      <td>NaN</td>\n",
       "    </tr>\n",
       "    <tr>\n",
       "      <th>Pressure(in)</th>\n",
       "      <td>0.043883</td>\n",
       "      <td>-0.234889</td>\n",
       "      <td>0.208828</td>\n",
       "      <td>-0.234896</td>\n",
       "      <td>0.208830</td>\n",
       "      <td>-0.069115</td>\n",
       "      <td>-0.058449</td>\n",
       "      <td>0.137756</td>\n",
       "      <td>0.134312</td>\n",
       "      <td>0.138816</td>\n",
       "      <td>...</td>\n",
       "      <td>-0.000727</td>\n",
       "      <td>0.051646</td>\n",
       "      <td>-0.000781</td>\n",
       "      <td>0.015718</td>\n",
       "      <td>0.000742</td>\n",
       "      <td>0.040853</td>\n",
       "      <td>-0.015793</td>\n",
       "      <td>0.000232</td>\n",
       "      <td>0.015351</td>\n",
       "      <td>NaN</td>\n",
       "    </tr>\n",
       "    <tr>\n",
       "      <th>Visibility(mi)</th>\n",
       "      <td>0.007371</td>\n",
       "      <td>-0.086538</td>\n",
       "      <td>0.029336</td>\n",
       "      <td>-0.086532</td>\n",
       "      <td>0.029338</td>\n",
       "      <td>-0.034001</td>\n",
       "      <td>-0.018511</td>\n",
       "      <td>0.211134</td>\n",
       "      <td>0.217573</td>\n",
       "      <td>-0.363305</td>\n",
       "      <td>...</td>\n",
       "      <td>0.002445</td>\n",
       "      <td>-0.007694</td>\n",
       "      <td>0.007327</td>\n",
       "      <td>0.002338</td>\n",
       "      <td>0.000107</td>\n",
       "      <td>0.020449</td>\n",
       "      <td>0.002569</td>\n",
       "      <td>0.003880</td>\n",
       "      <td>0.030796</td>\n",
       "      <td>NaN</td>\n",
       "    </tr>\n",
       "    <tr>\n",
       "      <th>Wind_Speed(mph)</th>\n",
       "      <td>0.048382</td>\n",
       "      <td>0.029158</td>\n",
       "      <td>0.090564</td>\n",
       "      <td>0.029162</td>\n",
       "      <td>0.090567</td>\n",
       "      <td>0.011127</td>\n",
       "      <td>0.013933</td>\n",
       "      <td>0.078788</td>\n",
       "      <td>0.013011</td>\n",
       "      <td>-0.174100</td>\n",
       "      <td>...</td>\n",
       "      <td>0.002457</td>\n",
       "      <td>0.018484</td>\n",
       "      <td>0.002117</td>\n",
       "      <td>-0.000342</td>\n",
       "      <td>0.000217</td>\n",
       "      <td>0.016019</td>\n",
       "      <td>-0.006544</td>\n",
       "      <td>-0.000406</td>\n",
       "      <td>0.016800</td>\n",
       "      <td>NaN</td>\n",
       "    </tr>\n",
       "    <tr>\n",
       "      <th>Precipitation(in)</th>\n",
       "      <td>0.013845</td>\n",
       "      <td>-0.002835</td>\n",
       "      <td>0.024094</td>\n",
       "      <td>-0.002836</td>\n",
       "      <td>0.024094</td>\n",
       "      <td>0.003050</td>\n",
       "      <td>-0.000188</td>\n",
       "      <td>-0.004425</td>\n",
       "      <td>-0.008289</td>\n",
       "      <td>0.077663</td>\n",
       "      <td>...</td>\n",
       "      <td>-0.001313</td>\n",
       "      <td>0.014892</td>\n",
       "      <td>0.000341</td>\n",
       "      <td>-0.000027</td>\n",
       "      <td>-0.000003</td>\n",
       "      <td>-0.001453</td>\n",
       "      <td>-0.004493</td>\n",
       "      <td>-0.001228</td>\n",
       "      <td>-0.002458</td>\n",
       "      <td>NaN</td>\n",
       "    </tr>\n",
       "    <tr>\n",
       "      <th>Amenity</th>\n",
       "      <td>-0.003940</td>\n",
       "      <td>-0.005879</td>\n",
       "      <td>0.014923</td>\n",
       "      <td>-0.005878</td>\n",
       "      <td>0.014924</td>\n",
       "      <td>-0.032717</td>\n",
       "      <td>-0.032279</td>\n",
       "      <td>0.013420</td>\n",
       "      <td>0.016908</td>\n",
       "      <td>-0.005963</td>\n",
       "      <td>...</td>\n",
       "      <td>0.003297</td>\n",
       "      <td>-0.026413</td>\n",
       "      <td>0.013096</td>\n",
       "      <td>0.034372</td>\n",
       "      <td>0.000428</td>\n",
       "      <td>0.124395</td>\n",
       "      <td>0.027137</td>\n",
       "      <td>0.010624</td>\n",
       "      <td>0.090555</td>\n",
       "      <td>NaN</td>\n",
       "    </tr>\n",
       "    <tr>\n",
       "      <th>Bump</th>\n",
       "      <td>-0.003739</td>\n",
       "      <td>0.000338</td>\n",
       "      <td>-0.014867</td>\n",
       "      <td>0.000339</td>\n",
       "      <td>-0.014867</td>\n",
       "      <td>-0.005408</td>\n",
       "      <td>-0.003719</td>\n",
       "      <td>0.003967</td>\n",
       "      <td>0.005370</td>\n",
       "      <td>-0.007727</td>\n",
       "      <td>...</td>\n",
       "      <td>-0.000176</td>\n",
       "      <td>-0.001792</td>\n",
       "      <td>0.002610</td>\n",
       "      <td>0.006451</td>\n",
       "      <td>-0.000125</td>\n",
       "      <td>0.006027</td>\n",
       "      <td>0.019402</td>\n",
       "      <td>0.772162</td>\n",
       "      <td>-0.003714</td>\n",
       "      <td>NaN</td>\n",
       "    </tr>\n",
       "    <tr>\n",
       "      <th>Crossing</th>\n",
       "      <td>-0.035382</td>\n",
       "      <td>-0.094698</td>\n",
       "      <td>0.056169</td>\n",
       "      <td>-0.094703</td>\n",
       "      <td>0.056165</td>\n",
       "      <td>-0.091256</td>\n",
       "      <td>-0.054667</td>\n",
       "      <td>0.069728</td>\n",
       "      <td>0.077446</td>\n",
       "      <td>-0.030003</td>\n",
       "      <td>...</td>\n",
       "      <td>0.053507</td>\n",
       "      <td>-0.080214</td>\n",
       "      <td>0.042085</td>\n",
       "      <td>0.207132</td>\n",
       "      <td>-0.000764</td>\n",
       "      <td>0.144655</td>\n",
       "      <td>0.086878</td>\n",
       "      <td>0.026087</td>\n",
       "      <td>0.422232</td>\n",
       "      <td>NaN</td>\n",
       "    </tr>\n",
       "    <tr>\n",
       "      <th>Give_Way</th>\n",
       "      <td>0.008141</td>\n",
       "      <td>0.007851</td>\n",
       "      <td>0.018110</td>\n",
       "      <td>0.007840</td>\n",
       "      <td>0.018110</td>\n",
       "      <td>-0.006655</td>\n",
       "      <td>-0.003792</td>\n",
       "      <td>-0.005524</td>\n",
       "      <td>-0.007584</td>\n",
       "      <td>0.000063</td>\n",
       "      <td>...</td>\n",
       "      <td>1.000000</td>\n",
       "      <td>-0.007007</td>\n",
       "      <td>0.004176</td>\n",
       "      <td>0.003981</td>\n",
       "      <td>0.002945</td>\n",
       "      <td>-0.002163</td>\n",
       "      <td>0.047691</td>\n",
       "      <td>0.000253</td>\n",
       "      <td>0.056994</td>\n",
       "      <td>NaN</td>\n",
       "    </tr>\n",
       "    <tr>\n",
       "      <th>Junction</th>\n",
       "      <td>0.045928</td>\n",
       "      <td>0.043628</td>\n",
       "      <td>-0.017202</td>\n",
       "      <td>0.043621</td>\n",
       "      <td>-0.017199</td>\n",
       "      <td>0.022442</td>\n",
       "      <td>-0.010801</td>\n",
       "      <td>-0.020358</td>\n",
       "      <td>-0.048784</td>\n",
       "      <td>0.006394</td>\n",
       "      <td>...</td>\n",
       "      <td>-0.007007</td>\n",
       "      <td>1.000000</td>\n",
       "      <td>-0.003870</td>\n",
       "      <td>-0.010436</td>\n",
       "      <td>0.012083</td>\n",
       "      <td>-0.044455</td>\n",
       "      <td>-0.034977</td>\n",
       "      <td>-0.002262</td>\n",
       "      <td>-0.096142</td>\n",
       "      <td>NaN</td>\n",
       "    </tr>\n",
       "    <tr>\n",
       "      <th>No_Exit</th>\n",
       "      <td>-0.002359</td>\n",
       "      <td>-0.017348</td>\n",
       "      <td>0.006220</td>\n",
       "      <td>-0.017347</td>\n",
       "      <td>0.006220</td>\n",
       "      <td>-0.010184</td>\n",
       "      <td>-0.005052</td>\n",
       "      <td>0.011610</td>\n",
       "      <td>0.012066</td>\n",
       "      <td>-0.007099</td>\n",
       "      <td>...</td>\n",
       "      <td>0.004176</td>\n",
       "      <td>-0.003870</td>\n",
       "      <td>1.000000</td>\n",
       "      <td>0.002736</td>\n",
       "      <td>-0.000256</td>\n",
       "      <td>0.015199</td>\n",
       "      <td>0.011802</td>\n",
       "      <td>0.001631</td>\n",
       "      <td>0.023376</td>\n",
       "      <td>NaN</td>\n",
       "    </tr>\n",
       "    <tr>\n",
       "      <th>Railway</th>\n",
       "      <td>-0.001747</td>\n",
       "      <td>0.003184</td>\n",
       "      <td>-0.015450</td>\n",
       "      <td>0.003184</td>\n",
       "      <td>-0.015449</td>\n",
       "      <td>-0.021462</td>\n",
       "      <td>-0.013668</td>\n",
       "      <td>0.003108</td>\n",
       "      <td>0.005062</td>\n",
       "      <td>-0.000309</td>\n",
       "      <td>...</td>\n",
       "      <td>0.003981</td>\n",
       "      <td>-0.010436</td>\n",
       "      <td>0.002736</td>\n",
       "      <td>1.000000</td>\n",
       "      <td>-0.000589</td>\n",
       "      <td>0.109353</td>\n",
       "      <td>0.007893</td>\n",
       "      <td>0.005064</td>\n",
       "      <td>0.053727</td>\n",
       "      <td>NaN</td>\n",
       "    </tr>\n",
       "    <tr>\n",
       "      <th>Roundabout</th>\n",
       "      <td>-0.000773</td>\n",
       "      <td>-0.003366</td>\n",
       "      <td>0.000450</td>\n",
       "      <td>-0.003366</td>\n",
       "      <td>0.000450</td>\n",
       "      <td>-0.002491</td>\n",
       "      <td>-0.001360</td>\n",
       "      <td>0.002122</td>\n",
       "      <td>0.002466</td>\n",
       "      <td>0.000904</td>\n",
       "      <td>...</td>\n",
       "      <td>0.002945</td>\n",
       "      <td>0.012083</td>\n",
       "      <td>-0.000256</td>\n",
       "      <td>-0.000589</td>\n",
       "      <td>1.000000</td>\n",
       "      <td>0.000371</td>\n",
       "      <td>0.006412</td>\n",
       "      <td>0.002019</td>\n",
       "      <td>-0.002108</td>\n",
       "      <td>NaN</td>\n",
       "    </tr>\n",
       "    <tr>\n",
       "      <th>Station</th>\n",
       "      <td>-0.018017</td>\n",
       "      <td>-0.107697</td>\n",
       "      <td>0.038533</td>\n",
       "      <td>-0.107696</td>\n",
       "      <td>0.038533</td>\n",
       "      <td>-0.052826</td>\n",
       "      <td>-0.028485</td>\n",
       "      <td>0.061248</td>\n",
       "      <td>0.069379</td>\n",
       "      <td>-0.000095</td>\n",
       "      <td>...</td>\n",
       "      <td>-0.002163</td>\n",
       "      <td>-0.044455</td>\n",
       "      <td>0.015199</td>\n",
       "      <td>0.109353</td>\n",
       "      <td>0.000371</td>\n",
       "      <td>1.000000</td>\n",
       "      <td>0.027295</td>\n",
       "      <td>0.009768</td>\n",
       "      <td>0.112593</td>\n",
       "      <td>NaN</td>\n",
       "    </tr>\n",
       "    <tr>\n",
       "      <th>Stop</th>\n",
       "      <td>-0.002536</td>\n",
       "      <td>0.010817</td>\n",
       "      <td>-0.040265</td>\n",
       "      <td>0.010827</td>\n",
       "      <td>-0.040264</td>\n",
       "      <td>-0.027108</td>\n",
       "      <td>-0.003688</td>\n",
       "      <td>0.000021</td>\n",
       "      <td>0.005424</td>\n",
       "      <td>-0.015631</td>\n",
       "      <td>...</td>\n",
       "      <td>0.047691</td>\n",
       "      <td>-0.034977</td>\n",
       "      <td>0.011802</td>\n",
       "      <td>0.007893</td>\n",
       "      <td>0.006412</td>\n",
       "      <td>0.027295</td>\n",
       "      <td>1.000000</td>\n",
       "      <td>0.017349</td>\n",
       "      <td>-0.028258</td>\n",
       "      <td>NaN</td>\n",
       "    </tr>\n",
       "    <tr>\n",
       "      <th>Traffic_Calming</th>\n",
       "      <td>-0.003009</td>\n",
       "      <td>-0.003164</td>\n",
       "      <td>-0.007750</td>\n",
       "      <td>-0.003163</td>\n",
       "      <td>-0.007750</td>\n",
       "      <td>-0.007322</td>\n",
       "      <td>-0.005075</td>\n",
       "      <td>0.005672</td>\n",
       "      <td>0.007140</td>\n",
       "      <td>-0.005727</td>\n",
       "      <td>...</td>\n",
       "      <td>0.000253</td>\n",
       "      <td>-0.002262</td>\n",
       "      <td>0.001631</td>\n",
       "      <td>0.005064</td>\n",
       "      <td>0.002019</td>\n",
       "      <td>0.009768</td>\n",
       "      <td>0.017349</td>\n",
       "      <td>1.000000</td>\n",
       "      <td>0.008646</td>\n",
       "      <td>NaN</td>\n",
       "    </tr>\n",
       "    <tr>\n",
       "      <th>Traffic_Signal</th>\n",
       "      <td>-0.012798</td>\n",
       "      <td>-0.058208</td>\n",
       "      <td>0.059568</td>\n",
       "      <td>-0.058210</td>\n",
       "      <td>0.059566</td>\n",
       "      <td>-0.105722</td>\n",
       "      <td>-0.058870</td>\n",
       "      <td>0.047657</td>\n",
       "      <td>0.048321</td>\n",
       "      <td>-0.034133</td>\n",
       "      <td>...</td>\n",
       "      <td>0.056994</td>\n",
       "      <td>-0.096142</td>\n",
       "      <td>0.023376</td>\n",
       "      <td>0.053727</td>\n",
       "      <td>-0.002108</td>\n",
       "      <td>0.112593</td>\n",
       "      <td>-0.028258</td>\n",
       "      <td>0.008646</td>\n",
       "      <td>1.000000</td>\n",
       "      <td>NaN</td>\n",
       "    </tr>\n",
       "    <tr>\n",
       "      <th>Turning_Loop</th>\n",
       "      <td>NaN</td>\n",
       "      <td>NaN</td>\n",
       "      <td>NaN</td>\n",
       "      <td>NaN</td>\n",
       "      <td>NaN</td>\n",
       "      <td>NaN</td>\n",
       "      <td>NaN</td>\n",
       "      <td>NaN</td>\n",
       "      <td>NaN</td>\n",
       "      <td>NaN</td>\n",
       "      <td>...</td>\n",
       "      <td>NaN</td>\n",
       "      <td>NaN</td>\n",
       "      <td>NaN</td>\n",
       "      <td>NaN</td>\n",
       "      <td>NaN</td>\n",
       "      <td>NaN</td>\n",
       "      <td>NaN</td>\n",
       "      <td>NaN</td>\n",
       "      <td>NaN</td>\n",
       "      <td>NaN</td>\n",
       "    </tr>\n",
       "  </tbody>\n",
       "</table>\n",
       "<p>27 rows × 27 columns</p>\n",
       "</div>"
      ],
      "text/plain": [
       "                   Severity  Start_Lat  Start_Lng   End_Lat   End_Lng  \\\n",
       "Severity           1.000000   0.089207   0.114063  0.089209  0.114064   \n",
       "Start_Lat          0.089207   1.000000  -0.154965  0.999995 -0.154962   \n",
       "Start_Lng          0.114063  -0.154965   1.000000 -0.154956  0.999999   \n",
       "End_Lat            0.089209   0.999995  -0.154956  1.000000 -0.154953   \n",
       "End_Lng            0.114064  -0.154962   0.999999 -0.154953  1.000000   \n",
       "Distance(mi)       0.092140   0.071588   0.039861  0.071593  0.039830   \n",
       "Number            -0.000689   0.101281  -0.170566  0.101270 -0.170563   \n",
       "Temperature(F)    -0.045335  -0.475065   0.032159 -0.475058  0.032163   \n",
       "Wind_Chill(F)     -0.097459  -0.505567   0.010849 -0.505561  0.010852   \n",
       "Humidity(%)        0.037802   0.005876   0.170909  0.005869  0.170904   \n",
       "Pressure(in)       0.043883  -0.234889   0.208828 -0.234896  0.208830   \n",
       "Visibility(mi)     0.007371  -0.086538   0.029336 -0.086532  0.029338   \n",
       "Wind_Speed(mph)    0.048382   0.029158   0.090564  0.029162  0.090567   \n",
       "Precipitation(in)  0.013845  -0.002835   0.024094 -0.002836  0.024094   \n",
       "Amenity           -0.003940  -0.005879   0.014923 -0.005878  0.014924   \n",
       "Bump              -0.003739   0.000338  -0.014867  0.000339 -0.014867   \n",
       "Crossing          -0.035382  -0.094698   0.056169 -0.094703  0.056165   \n",
       "Give_Way           0.008141   0.007851   0.018110  0.007840  0.018110   \n",
       "Junction           0.045928   0.043628  -0.017202  0.043621 -0.017199   \n",
       "No_Exit           -0.002359  -0.017348   0.006220 -0.017347  0.006220   \n",
       "Railway           -0.001747   0.003184  -0.015450  0.003184 -0.015449   \n",
       "Roundabout        -0.000773  -0.003366   0.000450 -0.003366  0.000450   \n",
       "Station           -0.018017  -0.107697   0.038533 -0.107696  0.038533   \n",
       "Stop              -0.002536   0.010817  -0.040265  0.010827 -0.040264   \n",
       "Traffic_Calming   -0.003009  -0.003164  -0.007750 -0.003163 -0.007750   \n",
       "Traffic_Signal    -0.012798  -0.058208   0.059568 -0.058210  0.059566   \n",
       "Turning_Loop            NaN        NaN        NaN       NaN       NaN   \n",
       "\n",
       "                   Distance(mi)    Number  Temperature(F)  Wind_Chill(F)  \\\n",
       "Severity               0.092140 -0.000689       -0.045335      -0.097459   \n",
       "Start_Lat              0.071588  0.101281       -0.475065      -0.505567   \n",
       "Start_Lng              0.039861 -0.170566        0.032159       0.010849   \n",
       "End_Lat                0.071593  0.101270       -0.475058      -0.505561   \n",
       "End_Lng                0.039830 -0.170563        0.032163       0.010852   \n",
       "Distance(mi)           1.000000  0.067331       -0.051212      -0.060094   \n",
       "Number                 0.067331  1.000000       -0.051146      -0.049400   \n",
       "Temperature(F)        -0.051212 -0.051146        1.000000       0.993857   \n",
       "Wind_Chill(F)         -0.060094 -0.049400        0.993857       1.000000   \n",
       "Humidity(%)            0.026860  0.015825       -0.366527      -0.346028   \n",
       "Pressure(in)          -0.069115 -0.058449        0.137756       0.134312   \n",
       "Visibility(mi)        -0.034001 -0.018511        0.211134       0.217573   \n",
       "Wind_Speed(mph)        0.011127  0.013933        0.078788       0.013011   \n",
       "Precipitation(in)      0.003050 -0.000188       -0.004425      -0.008289   \n",
       "Amenity               -0.032717 -0.032279        0.013420       0.016908   \n",
       "Bump                  -0.005408 -0.003719        0.003967       0.005370   \n",
       "Crossing              -0.091256 -0.054667        0.069728       0.077446   \n",
       "Give_Way              -0.006655 -0.003792       -0.005524      -0.007584   \n",
       "Junction               0.022442 -0.010801       -0.020358      -0.048784   \n",
       "No_Exit               -0.010184 -0.005052        0.011610       0.012066   \n",
       "Railway               -0.021462 -0.013668        0.003108       0.005062   \n",
       "Roundabout            -0.002491 -0.001360        0.002122       0.002466   \n",
       "Station               -0.052826 -0.028485        0.061248       0.069379   \n",
       "Stop                  -0.027108 -0.003688        0.000021       0.005424   \n",
       "Traffic_Calming       -0.007322 -0.005075        0.005672       0.007140   \n",
       "Traffic_Signal        -0.105722 -0.058870        0.047657       0.048321   \n",
       "Turning_Loop                NaN       NaN             NaN            NaN   \n",
       "\n",
       "                   Humidity(%)  ...  Give_Way  Junction   No_Exit   Railway  \\\n",
       "Severity              0.037802  ...  0.008141  0.045928 -0.002359 -0.001747   \n",
       "Start_Lat             0.005876  ...  0.007851  0.043628 -0.017348  0.003184   \n",
       "Start_Lng             0.170909  ...  0.018110 -0.017202  0.006220 -0.015450   \n",
       "End_Lat               0.005869  ...  0.007840  0.043621 -0.017347  0.003184   \n",
       "End_Lng               0.170904  ...  0.018110 -0.017199  0.006220 -0.015449   \n",
       "Distance(mi)          0.026860  ... -0.006655  0.022442 -0.010184 -0.021462   \n",
       "Number                0.015825  ... -0.003792 -0.010801 -0.005052 -0.013668   \n",
       "Temperature(F)       -0.366527  ... -0.005524 -0.020358  0.011610  0.003108   \n",
       "Wind_Chill(F)        -0.346028  ... -0.007584 -0.048784  0.012066  0.005062   \n",
       "Humidity(%)           1.000000  ...  0.000063  0.006394 -0.007099 -0.000309   \n",
       "Pressure(in)          0.138816  ... -0.000727  0.051646 -0.000781  0.015718   \n",
       "Visibility(mi)       -0.363305  ...  0.002445 -0.007694  0.007327  0.002338   \n",
       "Wind_Speed(mph)      -0.174100  ...  0.002457  0.018484  0.002117 -0.000342   \n",
       "Precipitation(in)     0.077663  ... -0.001313  0.014892  0.000341 -0.000027   \n",
       "Amenity              -0.005963  ...  0.003297 -0.026413  0.013096  0.034372   \n",
       "Bump                 -0.007727  ... -0.000176 -0.001792  0.002610  0.006451   \n",
       "Crossing             -0.030003  ...  0.053507 -0.080214  0.042085  0.207132   \n",
       "Give_Way              0.000063  ...  1.000000 -0.007007  0.004176  0.003981   \n",
       "Junction              0.006394  ... -0.007007  1.000000 -0.003870 -0.010436   \n",
       "No_Exit              -0.007099  ...  0.004176 -0.003870  1.000000  0.002736   \n",
       "Railway              -0.000309  ...  0.003981 -0.010436  0.002736  1.000000   \n",
       "Roundabout            0.000904  ...  0.002945  0.012083 -0.000256 -0.000589   \n",
       "Station              -0.000095  ... -0.002163 -0.044455  0.015199  0.109353   \n",
       "Stop                 -0.015631  ...  0.047691 -0.034977  0.011802  0.007893   \n",
       "Traffic_Calming      -0.005727  ...  0.000253 -0.002262  0.001631  0.005064   \n",
       "Traffic_Signal       -0.034133  ...  0.056994 -0.096142  0.023376  0.053727   \n",
       "Turning_Loop               NaN  ...       NaN       NaN       NaN       NaN   \n",
       "\n",
       "                   Roundabout   Station      Stop  Traffic_Calming  \\\n",
       "Severity            -0.000773 -0.018017 -0.002536        -0.003009   \n",
       "Start_Lat           -0.003366 -0.107697  0.010817        -0.003164   \n",
       "Start_Lng            0.000450  0.038533 -0.040265        -0.007750   \n",
       "End_Lat             -0.003366 -0.107696  0.010827        -0.003163   \n",
       "End_Lng              0.000450  0.038533 -0.040264        -0.007750   \n",
       "Distance(mi)        -0.002491 -0.052826 -0.027108        -0.007322   \n",
       "Number              -0.001360 -0.028485 -0.003688        -0.005075   \n",
       "Temperature(F)       0.002122  0.061248  0.000021         0.005672   \n",
       "Wind_Chill(F)        0.002466  0.069379  0.005424         0.007140   \n",
       "Humidity(%)          0.000904 -0.000095 -0.015631        -0.005727   \n",
       "Pressure(in)         0.000742  0.040853 -0.015793         0.000232   \n",
       "Visibility(mi)       0.000107  0.020449  0.002569         0.003880   \n",
       "Wind_Speed(mph)      0.000217  0.016019 -0.006544        -0.000406   \n",
       "Precipitation(in)   -0.000003 -0.001453 -0.004493        -0.001228   \n",
       "Amenity              0.000428  0.124395  0.027137         0.010624   \n",
       "Bump                -0.000125  0.006027  0.019402         0.772162   \n",
       "Crossing            -0.000764  0.144655  0.086878         0.026087   \n",
       "Give_Way             0.002945 -0.002163  0.047691         0.000253   \n",
       "Junction             0.012083 -0.044455 -0.034977        -0.002262   \n",
       "No_Exit             -0.000256  0.015199  0.011802         0.001631   \n",
       "Railway             -0.000589  0.109353  0.007893         0.005064   \n",
       "Roundabout           1.000000  0.000371  0.006412         0.002019   \n",
       "Station              0.000371  1.000000  0.027295         0.009768   \n",
       "Stop                 0.006412  0.027295  1.000000         0.017349   \n",
       "Traffic_Calming      0.002019  0.009768  0.017349         1.000000   \n",
       "Traffic_Signal      -0.002108  0.112593 -0.028258         0.008646   \n",
       "Turning_Loop              NaN       NaN       NaN              NaN   \n",
       "\n",
       "                   Traffic_Signal  Turning_Loop  \n",
       "Severity                -0.012798           NaN  \n",
       "Start_Lat               -0.058208           NaN  \n",
       "Start_Lng                0.059568           NaN  \n",
       "End_Lat                 -0.058210           NaN  \n",
       "End_Lng                  0.059566           NaN  \n",
       "Distance(mi)            -0.105722           NaN  \n",
       "Number                  -0.058870           NaN  \n",
       "Temperature(F)           0.047657           NaN  \n",
       "Wind_Chill(F)            0.048321           NaN  \n",
       "Humidity(%)             -0.034133           NaN  \n",
       "Pressure(in)             0.015351           NaN  \n",
       "Visibility(mi)           0.030796           NaN  \n",
       "Wind_Speed(mph)          0.016800           NaN  \n",
       "Precipitation(in)       -0.002458           NaN  \n",
       "Amenity                  0.090555           NaN  \n",
       "Bump                    -0.003714           NaN  \n",
       "Crossing                 0.422232           NaN  \n",
       "Give_Way                 0.056994           NaN  \n",
       "Junction                -0.096142           NaN  \n",
       "No_Exit                  0.023376           NaN  \n",
       "Railway                  0.053727           NaN  \n",
       "Roundabout              -0.002108           NaN  \n",
       "Station                  0.112593           NaN  \n",
       "Stop                    -0.028258           NaN  \n",
       "Traffic_Calming          0.008646           NaN  \n",
       "Traffic_Signal           1.000000           NaN  \n",
       "Turning_Loop                  NaN           NaN  \n",
       "\n",
       "[27 rows x 27 columns]"
      ]
     },
     "execution_count": 7,
     "metadata": {},
     "output_type": "execute_result"
    }
   ],
   "source": [
    "df.corr()"
   ]
  },
  {
   "cell_type": "markdown",
   "id": "e453e720",
   "metadata": {},
   "source": [
    "### Each square shows the correlation between the variables on each axis. \n",
    "### Values closer to zero means there is no linear trend between the two variables. \n",
    "### The close to 1 the correlation is the more closely correlated they are;i.e  as one increases so does the other and the closer to 1 the stronger this relationship is. \n",
    "### A correlation closer to -1 is , one variable will decrease as the other increases. \n",
    "### The Squares which are equals to 1 are perfectly correlated."
   ]
  },
  {
   "cell_type": "markdown",
   "id": "69afa7cd",
   "metadata": {},
   "source": [
    "# Checking Null Values:"
   ]
  },
  {
   "cell_type": "code",
   "execution_count": 8,
   "id": "94bbd6f1",
   "metadata": {},
   "outputs": [
    {
     "data": {
      "text/plain": [
       "ID                             0\n",
       "Severity                       0\n",
       "Start_Time                     0\n",
       "End_Time                       0\n",
       "Start_Lat                      0\n",
       "Start_Lng                      0\n",
       "End_Lat                        0\n",
       "End_Lng                        0\n",
       "Distance(mi)                   0\n",
       "Description                    0\n",
       "Number                   1743911\n",
       "Street                         2\n",
       "Side                           0\n",
       "City                         137\n",
       "County                         0\n",
       "State                          0\n",
       "Zipcode                     1319\n",
       "Country                        0\n",
       "Timezone                    3659\n",
       "Airport_Code                9549\n",
       "Weather_Timestamp          50736\n",
       "Temperature(F)             69274\n",
       "Wind_Chill(F)             469643\n",
       "Humidity(%)                73092\n",
       "Pressure(in)               59200\n",
       "Visibility(mi)             70546\n",
       "Wind_Direction             73775\n",
       "Wind_Speed(mph)           157944\n",
       "Precipitation(in)         549458\n",
       "Weather_Condition          70636\n",
       "Amenity                        0\n",
       "Bump                           0\n",
       "Crossing                       0\n",
       "Give_Way                       0\n",
       "Junction                       0\n",
       "No_Exit                        0\n",
       "Railway                        0\n",
       "Roundabout                     0\n",
       "Station                        0\n",
       "Stop                           0\n",
       "Traffic_Calming                0\n",
       "Traffic_Signal                 0\n",
       "Turning_Loop                   0\n",
       "Sunrise_Sunset              2867\n",
       "Civil_Twilight              2867\n",
       "Nautical_Twilight           2867\n",
       "Astronomical_Twilight       2867\n",
       "dtype: int64"
      ]
     },
     "execution_count": 8,
     "metadata": {},
     "output_type": "execute_result"
    }
   ],
   "source": [
    "df.isnull().sum()"
   ]
  },
  {
   "cell_type": "code",
   "execution_count": 9,
   "id": "f31a4423",
   "metadata": {},
   "outputs": [
    {
     "data": {
      "text/plain": [
       "61.290031215931165"
      ]
     },
     "execution_count": 9,
     "metadata": {},
     "output_type": "execute_result"
    }
   ],
   "source": [
    "per=(df['Number'].isnull().sum()/df.shape[0])*100\n",
    "per"
   ]
  },
  {
   "cell_type": "code",
   "execution_count": 10,
   "id": "3e15ac7e",
   "metadata": {},
   "outputs": [
    {
     "data": {
      "text/plain": [
       "7.029032010914681e-05"
      ]
     },
     "execution_count": 10,
     "metadata": {},
     "output_type": "execute_result"
    }
   ],
   "source": [
    "per=(df['Street'].isnull().sum()/df.shape[0])*100\n",
    "per"
   ]
  },
  {
   "cell_type": "code",
   "execution_count": 11,
   "id": "46614ce1",
   "metadata": {},
   "outputs": [
    {
     "data": {
      "text/plain": [
       "0.0048148869274765565"
      ]
     },
     "execution_count": 11,
     "metadata": {},
     "output_type": "execute_result"
    }
   ],
   "source": [
    "per=(df['City'].isnull().sum()/df.shape[0])*100\n",
    "per"
   ]
  },
  {
   "cell_type": "code",
   "execution_count": 12,
   "id": "08ee8bee",
   "metadata": {},
   "outputs": [
    {
     "data": {
      "text/plain": [
       "0.04635646611198232"
      ]
     },
     "execution_count": 12,
     "metadata": {},
     "output_type": "execute_result"
    }
   ],
   "source": [
    "per=(df['Zipcode'].isnull().sum()/df.shape[0])*100\n",
    "per"
   ]
  },
  {
   "cell_type": "code",
   "execution_count": 13,
   "id": "2e4e1be7",
   "metadata": {},
   "outputs": [
    {
     "data": {
      "text/plain": [
       "0.12859614063968408"
      ]
     },
     "execution_count": 13,
     "metadata": {},
     "output_type": "execute_result"
    }
   ],
   "source": [
    "per=(df['Timezone'].isnull().sum()/df.shape[0])*100\n",
    "per"
   ]
  },
  {
   "cell_type": "code",
   "execution_count": 14,
   "id": "a68dc454",
   "metadata": {},
   "outputs": [
    {
     "data": {
      "text/plain": [
       "0.33560113336112146"
      ]
     },
     "execution_count": 14,
     "metadata": {},
     "output_type": "execute_result"
    }
   ],
   "source": [
    "per=(df['Airport_Code'].isnull().sum()/df.shape[0])*100\n",
    "per"
   ]
  },
  {
   "cell_type": "code",
   "execution_count": 15,
   "id": "b98a1a85",
   "metadata": {},
   "outputs": [
    {
     "data": {
      "text/plain": [
       "1.7831248405288362"
      ]
     },
     "execution_count": 15,
     "metadata": {},
     "output_type": "execute_result"
    }
   ],
   "source": [
    "per=(df['Weather_Timestamp'].isnull().sum()/df.shape[0])*100\n",
    "per"
   ]
  },
  {
   "cell_type": "code",
   "execution_count": 16,
   "id": "6f98c7f8",
   "metadata": {},
   "outputs": [
    {
     "data": {
      "text/plain": [
       "2.434645817620518"
      ]
     },
     "execution_count": 16,
     "metadata": {},
     "output_type": "execute_result"
    }
   ],
   "source": [
    "per=(df['Temperature(F)'].isnull().sum()/df.shape[0])*100\n",
    "per"
   ]
  },
  {
   "cell_type": "code",
   "execution_count": 17,
   "id": "393602c6",
   "metadata": {},
   "outputs": [
    {
     "data": {
      "text/plain": [
       "16.505678403510018"
      ]
     },
     "execution_count": 17,
     "metadata": {},
     "output_type": "execute_result"
    }
   ],
   "source": [
    "per=(df['Wind_Chill(F)'].isnull().sum()/df.shape[0])*100\n",
    "per"
   ]
  },
  {
   "cell_type": "code",
   "execution_count": 18,
   "id": "2be68462",
   "metadata": {},
   "outputs": [
    {
     "data": {
      "text/plain": [
       "2.5688300387088794"
      ]
     },
     "execution_count": 18,
     "metadata": {},
     "output_type": "execute_result"
    }
   ],
   "source": [
    "per=(df['Humidity(%)'].isnull().sum()/df.shape[0])*100\n",
    "per"
   ]
  },
  {
   "cell_type": "code",
   "execution_count": 19,
   "id": "30f8db99",
   "metadata": {},
   "outputs": [
    {
     "data": {
      "text/plain": [
       "2.0805934752307453"
      ]
     },
     "execution_count": 19,
     "metadata": {},
     "output_type": "execute_result"
    }
   ],
   "source": [
    "per=(df['Pressure(in)'].isnull().sum()/df.shape[0])*100\n",
    "per"
   ]
  },
  {
   "cell_type": "code",
   "execution_count": 20,
   "id": "472ba865",
   "metadata": {},
   "outputs": [
    {
     "data": {
      "text/plain": [
       "2.4793504612099353"
      ]
     },
     "execution_count": 20,
     "metadata": {},
     "output_type": "execute_result"
    }
   ],
   "source": [
    "per=(df['Visibility(mi)'].isnull().sum()/df.shape[0])*100\n",
    "per"
   ]
  },
  {
   "cell_type": "code",
   "execution_count": 21,
   "id": "4f5da7b9",
   "metadata": {},
   "outputs": [
    {
     "data": {
      "text/plain": [
       "2.592834183026153"
      ]
     },
     "execution_count": 21,
     "metadata": {},
     "output_type": "execute_result"
    }
   ],
   "source": [
    "per=(df['Wind_Direction'].isnull().sum()/df.shape[0])*100\n",
    "per"
   ]
  },
  {
   "cell_type": "code",
   "execution_count": 22,
   "id": "a1059a12",
   "metadata": {},
   "outputs": [
    {
     "data": {
      "text/plain": [
       "5.550967159659542"
      ]
     },
     "execution_count": 22,
     "metadata": {},
     "output_type": "execute_result"
    }
   ],
   "source": [
    "per=(df['Wind_Speed(mph)'].isnull().sum()/df.shape[0])*100\n",
    "per"
   ]
  },
  {
   "cell_type": "code",
   "execution_count": 23,
   "id": "d748f561",
   "metadata": {},
   "outputs": [
    {
     "data": {
      "text/plain": [
       "19.310789353265793"
      ]
     },
     "execution_count": 23,
     "metadata": {},
     "output_type": "execute_result"
    }
   ],
   "source": [
    "per=(df['Precipitation(in)'].isnull().sum()/df.shape[0])*100\n",
    "per"
   ]
  },
  {
   "cell_type": "code",
   "execution_count": 24,
   "id": "19f4bbee",
   "metadata": {},
   "outputs": [
    {
     "data": {
      "text/plain": [
       "2.4825135256148467"
      ]
     },
     "execution_count": 24,
     "metadata": {},
     "output_type": "execute_result"
    }
   ],
   "source": [
    "per=(df['Weather_Condition'].isnull().sum()/df.shape[0])*100\n",
    "per"
   ]
  },
  {
   "cell_type": "code",
   "execution_count": 25,
   "id": "97e397e9",
   "metadata": {},
   "outputs": [
    {
     "data": {
      "text/plain": [
       "0.10076117387646194"
      ]
     },
     "execution_count": 25,
     "metadata": {},
     "output_type": "execute_result"
    }
   ],
   "source": [
    "per=(df['Sunrise_Sunset'].isnull().sum()/df.shape[0])*100\n",
    "per"
   ]
  },
  {
   "cell_type": "code",
   "execution_count": 26,
   "id": "9e3a1265",
   "metadata": {},
   "outputs": [
    {
     "data": {
      "text/plain": [
       "0.10076117387646194"
      ]
     },
     "execution_count": 26,
     "metadata": {},
     "output_type": "execute_result"
    }
   ],
   "source": [
    "per=(df['Civil_Twilight'].isnull().sum()/df.shape[0])*100\n",
    "per"
   ]
  },
  {
   "cell_type": "code",
   "execution_count": 27,
   "id": "9cff2cb3",
   "metadata": {},
   "outputs": [
    {
     "data": {
      "text/plain": [
       "0.10076117387646194"
      ]
     },
     "execution_count": 27,
     "metadata": {},
     "output_type": "execute_result"
    }
   ],
   "source": [
    "per=(df['Nautical_Twilight'].isnull().sum()/df.shape[0])*100\n",
    "per"
   ]
  },
  {
   "cell_type": "code",
   "execution_count": 28,
   "id": "b7554950",
   "metadata": {},
   "outputs": [
    {
     "data": {
      "text/plain": [
       "0.10076117387646194"
      ]
     },
     "execution_count": 28,
     "metadata": {},
     "output_type": "execute_result"
    }
   ],
   "source": [
    "per=(df['Astronomical_Twilight'].isnull().sum()/df.shape[0])*100\n",
    "per"
   ]
  },
  {
   "cell_type": "markdown",
   "id": "33f33baa",
   "metadata": {},
   "source": [
    "#  Percentage of null values in the columns consisting of  null values in the dataset:\n",
    "## Null rate of Number  column : 61.290%\n",
    "## Null rate of Street column : 7.029%\n",
    "## Null rate of City column : 0.004%\n",
    "## Null rate of Zipcode column : 0.046%\n",
    "## Null rate of Timezone column : 0.128%\n",
    "## Null rate of Airport_Code column : 0.335%\n",
    "## Null rate of Weather_Timestamp column: 1.783%\n",
    "## Null rate of Temperature(F) column : 2.434%\n",
    "## Null rate of Wind_Chill(F) column : 16.505%\n",
    "## Null rate of Humidity(%) column : 2.568%\n",
    "## Null rate of Pressure(in) column : 2.080%\n",
    "## Null rate of Wind_Direction column : 2.592%\n",
    "## Null rate of Wind_Speed(mph) column : 5.550%\n",
    "## Null rate of Precipitation(in) column : 19.310%\n",
    "## Null rate of Weather_Condition column : 2.482%\n",
    "## Null rate of Sunrise_Sunset column : 0.100%\n",
    "## Null rate of Civil_Twilight column : 0.100%\n",
    "## Null rate of Nautical_Twilight column : 0.100%\n",
    "## Null rate of Astronomical_Twilight column : 0.100%\n",
    "\n"
   ]
  },
  {
   "cell_type": "markdown",
   "id": "4db02884",
   "metadata": {},
   "source": [
    "# Data Cleaning:"
   ]
  },
  {
   "cell_type": "markdown",
   "id": "bd930231",
   "metadata": {},
   "source": [
    "#### Deleting the Number column as 60% of the data is empty and the column is not highly related to the accidents."
   ]
  },
  {
   "cell_type": "code",
   "execution_count": 29,
   "id": "3ecb360e",
   "metadata": {},
   "outputs": [],
   "source": [
    "#deleting the number column as the 60% data is empty \n",
    "newdf=df.drop(['Number'],axis=1,inplace=True)"
   ]
  },
  {
   "cell_type": "code",
   "execution_count": 30,
   "id": "5ff2497c",
   "metadata": {},
   "outputs": [
    {
     "name": "stdout",
     "output_type": "stream",
     "text": [
      "<class 'pandas.core.series.Series'>\n",
      "RangeIndex: 2845342 entries, 0 to 2845341\n",
      "Series name: Street\n",
      "Non-Null Count    Dtype \n",
      "--------------    ----- \n",
      "2845340 non-null  object\n",
      "dtypes: object(1)\n",
      "memory usage: 21.7+ MB\n"
     ]
    }
   ],
   "source": [
    "df['Street'].info()"
   ]
  },
  {
   "cell_type": "code",
   "execution_count": 31,
   "id": "d4caa927",
   "metadata": {},
   "outputs": [],
   "source": [
    "a=df['Street'].mode()"
   ]
  },
  {
   "cell_type": "code",
   "execution_count": 32,
   "id": "8bb31b7e",
   "metadata": {},
   "outputs": [],
   "source": [
    "df['Street']=df['Street'].fillna(a[0])"
   ]
  },
  {
   "cell_type": "code",
   "execution_count": 33,
   "id": "73c82f11",
   "metadata": {},
   "outputs": [
    {
     "data": {
      "text/plain": [
       "0"
      ]
     },
     "execution_count": 33,
     "metadata": {},
     "output_type": "execute_result"
    }
   ],
   "source": [
    "df['Street'].isnull().sum()"
   ]
  },
  {
   "cell_type": "code",
   "execution_count": 34,
   "id": "2155e212",
   "metadata": {},
   "outputs": [
    {
     "name": "stdout",
     "output_type": "stream",
     "text": [
      "<class 'pandas.core.series.Series'>\n",
      "RangeIndex: 2845342 entries, 0 to 2845341\n",
      "Series name: Wind_Chill(F)\n",
      "Non-Null Count    Dtype  \n",
      "--------------    -----  \n",
      "2375699 non-null  float64\n",
      "dtypes: float64(1)\n",
      "memory usage: 21.7 MB\n"
     ]
    }
   ],
   "source": [
    "df['Wind_Chill(F)'].info()"
   ]
  },
  {
   "cell_type": "code",
   "execution_count": 35,
   "id": "bcb21c10",
   "metadata": {},
   "outputs": [
    {
     "data": {
      "text/plain": [
       "59.658230903818634"
      ]
     },
     "execution_count": 35,
     "metadata": {},
     "output_type": "execute_result"
    }
   ],
   "source": [
    "df['Wind_Chill(F)'].mean()"
   ]
  },
  {
   "cell_type": "code",
   "execution_count": 36,
   "id": "03b5721b",
   "metadata": {},
   "outputs": [],
   "source": [
    "b=df['Wind_Chill(F)'].median()"
   ]
  },
  {
   "cell_type": "code",
   "execution_count": 37,
   "id": "c3bbc283",
   "metadata": {},
   "outputs": [],
   "source": [
    "df['Wind_Chill(F)']=df['Wind_Chill(F)'].fillna(b)"
   ]
  },
  {
   "cell_type": "code",
   "execution_count": 38,
   "id": "1bb913c6",
   "metadata": {},
   "outputs": [
    {
     "name": "stdout",
     "output_type": "stream",
     "text": [
      "<class 'pandas.core.series.Series'>\n",
      "RangeIndex: 2845342 entries, 0 to 2845341\n",
      "Series name: Precipitation(in)\n",
      "Non-Null Count    Dtype  \n",
      "--------------    -----  \n",
      "2295884 non-null  float64\n",
      "dtypes: float64(1)\n",
      "memory usage: 21.7 MB\n"
     ]
    }
   ],
   "source": [
    "df['Precipitation(in)'].info()"
   ]
  },
  {
   "cell_type": "code",
   "execution_count": 39,
   "id": "fd5dfff3",
   "metadata": {},
   "outputs": [],
   "source": [
    "c=df['Precipitation(in)'].median()"
   ]
  },
  {
   "cell_type": "code",
   "execution_count": 40,
   "id": "cda0de99",
   "metadata": {},
   "outputs": [
    {
     "data": {
      "text/plain": [
       "0.0070169398802495874"
      ]
     },
     "execution_count": 40,
     "metadata": {},
     "output_type": "execute_result"
    }
   ],
   "source": [
    "df['Precipitation(in)'].mean()"
   ]
  },
  {
   "cell_type": "code",
   "execution_count": 41,
   "id": "b2e1ce01",
   "metadata": {},
   "outputs": [],
   "source": [
    "df['Precipitation(in)']=df['Precipitation(in)'].fillna(c)"
   ]
  },
  {
   "cell_type": "markdown",
   "id": "fc765dc7",
   "metadata": {},
   "source": [
    "####  The counts of missing values in some features are much smaller compared to the total sample. It is convenient to ignore those  rows."
   ]
  },
  {
   "cell_type": "markdown",
   "id": "594c96ff",
   "metadata": {},
   "source": [
    "# Exploratory  Data Analysis:"
   ]
  },
  {
   "cell_type": "code",
   "execution_count": 42,
   "id": "b8b67447",
   "metadata": {},
   "outputs": [],
   "source": [
    "#top 10 cities with max no of accident."
   ]
  },
  {
   "cell_type": "code",
   "execution_count": 43,
   "id": "0f3a7b24",
   "metadata": {},
   "outputs": [
    {
     "data": {
      "text/plain": [
       "CA    795868\n",
       "FL    401388\n",
       "TX    149037\n",
       "OR    126341\n",
       "VA    113535\n",
       "NY    108049\n",
       "PA     99975\n",
       "MN     97185\n",
       "NC     91362\n",
       "SC     89216\n",
       "Name: State, dtype: int64"
      ]
     },
     "execution_count": 43,
     "metadata": {},
     "output_type": "execute_result"
    }
   ],
   "source": [
    "df['State'].value_counts().head(10)"
   ]
  },
  {
   "cell_type": "code",
   "execution_count": 44,
   "id": "50dd8587",
   "metadata": {},
   "outputs": [
    {
     "data": {
      "text/plain": [
       "<BarContainer object of 10 artists>"
      ]
     },
     "execution_count": 44,
     "metadata": {},
     "output_type": "execute_result"
    },
    {
     "data": {
      "image/png": "[encoded data removed]",
      "text/plain": [
       "<Figure size 640x480 with 1 Axes>"
      ]
     },
     "metadata": {},
     "output_type": "display_data"
    }
   ],
   "source": [
    "STATE = ['CA','FL','TX','OR','VA','NY','PA','MN','NC','SC']\n",
    "TOTALNO= [795868,401388,149037,126341,113535,108049,99975,97185,91362,89216]\n",
    "plt.bar(STATE,TOTALNO,color='purple')"
   ]
  },
  {
   "cell_type": "markdown",
   "id": "4fafa5ef",
   "metadata": {},
   "source": [
    "# CALIFORNIA has the max number of accidents.(795868)"
   ]
  },
  {
   "cell_type": "code",
   "execution_count": 45,
   "id": "cbcf386a",
   "metadata": {},
   "outputs": [
    {
     "data": {
      "text/plain": [
       "DE    4842\n",
       "RI    4451\n",
       "NH    3866\n",
       "NE    3320\n",
       "NM    2370\n",
       "ND    2258\n",
       "ME    2193\n",
       "WY     990\n",
       "VT     365\n",
       "SD     201\n",
       "Name: State, dtype: int64"
      ]
     },
     "execution_count": 45,
     "metadata": {},
     "output_type": "execute_result"
    }
   ],
   "source": [
    "#top 10 state with least number of accident\n",
    "df['State'].value_counts().tail(10)"
   ]
  },
  {
   "cell_type": "code",
   "execution_count": 46,
   "id": "79876b03",
   "metadata": {},
   "outputs": [
    {
     "data": {
      "text/plain": [
       "<BarContainer object of 10 artists>"
      ]
     },
     "execution_count": 46,
     "metadata": {},
     "output_type": "execute_result"
    },
    {
     "data": {
      "image/png": "[encoded data removed]",
      "text/plain": [
       "<Figure size 640x480 with 1 Axes>"
      ]
     },
     "metadata": {},
     "output_type": "display_data"
    }
   ],
   "source": [
    "STATE = ['DE','RI','NH','NE','NM','ND','ME','WY','VT','SD']\n",
    "TOTALNO= [4842,4451,3866,3320,2370,2258,2193,990,365,201]\n",
    "plt.bar(STATE,TOTALNO,color='orange')"
   ]
  },
  {
   "cell_type": "markdown",
   "id": "e1d644c3",
   "metadata": {},
   "source": [
    "# SOUTH DAKOTA has least number of accident.(201)"
   ]
  },
  {
   "cell_type": "code",
   "execution_count": 47,
   "id": "88e39370",
   "metadata": {},
   "outputs": [
    {
     "data": {
      "text/plain": [
       "Miami          106966\n",
       "Los Angeles     68956\n",
       "Orlando         54691\n",
       "Dallas          41979\n",
       "Houston         39448\n",
       "Charlotte       33152\n",
       "Sacramento      32559\n",
       "San Diego       26627\n",
       "Raleigh         22840\n",
       "Minneapolis     22768\n",
       "Name: City, dtype: int64"
      ]
     },
     "execution_count": 47,
     "metadata": {},
     "output_type": "execute_result"
    }
   ],
   "source": [
    "#top 10 cities with max no of accident.\n",
    "df['City'].value_counts().head(10)"
   ]
  },
  {
   "cell_type": "code",
   "execution_count": 48,
   "id": "82e149d8",
   "metadata": {},
   "outputs": [
    {
     "data": {
      "text/plain": [
       "<BarContainer object of 10 artists>"
      ]
     },
     "execution_count": 48,
     "metadata": {},
     "output_type": "execute_result"
    },
    {
     "data": {
      "image/png": "[encoded data removed]",
      "text/plain": [
       "<Figure size 1600x900 with 1 Axes>"
      ]
     },
     "metadata": {},
     "output_type": "display_data"
    }
   ],
   "source": [
    "plt.figure(figsize = (16,9))\n",
    "CITY = ['miami','los angeles','orlando','dallas','houston','charlotte','sacramento','san diego','raleigh','minneapolis']\n",
    "TOTALNO= [106966,68956,54691,41979,39448,33152,32559,26627,22840,22768]\n",
    "plt.bar(CITY,TOTALNO,color='darkgreen')"
   ]
  },
  {
   "cell_type": "markdown",
   "id": "cc062109",
   "metadata": {},
   "source": [
    "# Miami has highest no. of accident i.e 106966"
   ]
  },
  {
   "cell_type": "code",
   "execution_count": 49,
   "id": "0fe7dc58",
   "metadata": {},
   "outputs": [
    {
     "data": {
      "text/plain": [
       "Fair             1107194\n",
       "Mostly Cloudy     363959\n",
       "Cloudy            348767\n",
       "Partly Cloudy     249939\n",
       "Clear             173823\n",
       "Name: Weather_Condition, dtype: int64"
      ]
     },
     "execution_count": 49,
     "metadata": {},
     "output_type": "execute_result"
    }
   ],
   "source": [
    "#top 5 weather condition during accident\n",
    "df['Weather_Condition'].value_counts().head(5)"
   ]
  },
  {
   "cell_type": "code",
   "execution_count": 50,
   "id": "40b53b7b",
   "metadata": {},
   "outputs": [
    {
     "data": {
      "text/plain": [
       "([<matplotlib.patches.Wedge at 0x243f3f4eaf0>,\n",
       "  <matplotlib.patches.Wedge at 0x243f3f5b4c0>,\n",
       "  <matplotlib.patches.Wedge at 0x243f3f5be50>,\n",
       "  <matplotlib.patches.Wedge at 0x243f3f67820>,\n",
       "  <matplotlib.patches.Wedge at 0x243f3f741f0>],\n",
       " [Text(0.024608667134584098, 1.1997476457579983, 'Fair'),\n",
       "  Text(-0.9814234379467917, -0.4967977812437371, 'Mostly Cloudy'),\n",
       "  Text(-0.11446143046737464, -1.0940286015161407, 'cloudy'),\n",
       "  Text(0.7368790585204228, -0.8167063444801047, 'Partly cloudy'),\n",
       "  Text(1.3587385235856946, -0.3373864616788402, 'clear')],\n",
       " [Text(0.01435505582850739, 0.6998527933588322, '49.3%'),\n",
       "  Text(-0.5353218752437044, -0.27098060795112927, '16.2%'),\n",
       "  Text(-0.06243350752765889, -0.5967428735542585, '15.5%'),\n",
       "  Text(0.4019340319202306, -0.4454761878982389, '11.1%'),\n",
       "  Text(0.873474765162232, -0.21689129679354013, '7.7%')])"
      ]
     },
     "execution_count": 50,
     "metadata": {},
     "output_type": "execute_result"
    },
    {
     "data": {
      "image/png": "[encoded data removed]",
      "text/plain": [
       "<Figure size 640x480 with 1 Axes>"
      ]
     },
     "metadata": {},
     "output_type": "display_data"
    }
   ],
   "source": [
    "value = [1107194,363959,348767,249939,173823]\n",
    "weather_condition= ['Fair','Mostly Cloudy','cloudy','Partly cloudy','clear']\n",
    "colors=['lightblue','yellowgreen','gold','orange','coral']\n",
    "explode=(0.1,0,0,0,0.3)\n",
    "plt.pie(value,labels=weather_condition,explode=explode,colors=colors,autopct='%.1f%%',shadow=True)"
   ]
  },
  {
   "cell_type": "markdown",
   "id": "07befe51",
   "metadata": {},
   "source": [
    "# In Fair weather condition most accidents happen i.e 49.3%\n",
    "# Least happen in clear condition i.e. 7.7%"
   ]
  },
  {
   "cell_type": "code",
   "execution_count": 51,
   "id": "8eb9bd72",
   "metadata": {},
   "outputs": [],
   "source": [
    "# accidents on the basis of temperature.\n",
    "#if temperature range is below 46 F  then weather will be Cold, \n",
    "# if temperature is between 46 F - 68 F then weather will be  Normal\n",
    "# if above 68 F then Hot"
   ]
  },
  {
   "cell_type": "code",
   "execution_count": 52,
   "id": "2de16822",
   "metadata": {},
   "outputs": [
    {
     "data": {
      "text/plain": [
       "576009"
      ]
     },
     "execution_count": 52,
     "metadata": {},
     "output_type": "execute_result"
    }
   ],
   "source": [
    "df[df['Temperature(F)']<=46]['ID'].shape[0]"
   ]
  },
  {
   "cell_type": "code",
   "execution_count": 53,
   "id": "53e249b2",
   "metadata": {},
   "outputs": [
    {
     "data": {
      "text/plain": [
       "1179918"
      ]
     },
     "execution_count": 53,
     "metadata": {},
     "output_type": "execute_result"
    }
   ],
   "source": [
    "df[df['Temperature(F)']>=68]['ID'].shape[0]"
   ]
  },
  {
   "cell_type": "code",
   "execution_count": 54,
   "id": "7fda6bae",
   "metadata": {},
   "outputs": [
    {
     "data": {
      "text/plain": [
       "1117059"
      ]
     },
     "execution_count": 54,
     "metadata": {},
     "output_type": "execute_result"
    }
   ],
   "source": [
    "df[(df['Temperature(F)']>=46)& (df['Temperature(F)']<=68)]['ID'].shape[0]"
   ]
  },
  {
   "cell_type": "code",
   "execution_count": 55,
   "id": "359a703d",
   "metadata": {},
   "outputs": [
    {
     "data": {
      "text/plain": [
       "([<matplotlib.patches.Wedge at 0x243f3fc15b0>,\n",
       "  <matplotlib.patches.Wedge at 0x243f3fc1f40>,\n",
       "  <matplotlib.patches.Wedge at 0x243f3fce910>],\n",
       " [Text(0.9697303476228119, 0.7068401890804885, 'cold'),\n",
       "  Text(-0.9960359863251229, 0.6692625149710237, 'hot'),\n",
       "  Text(0.4106872338644087, -1.1275353634989906, 'normal')],\n",
       " [Text(0.5656760361133069, 0.4123234436302849, '20.0%'),\n",
       "  Text(-0.5810209920229883, 0.3904031337330971, '41.1%'),\n",
       "  Text(0.23956755308757174, -0.6577289620410778, '38.9%')])"
      ]
     },
     "execution_count": 55,
     "metadata": {},
     "output_type": "execute_result"
    },
    {
     "data": {
      "image/png": "[encoded data removed]",
      "text/plain": [
       "<Figure size 640x480 with 1 Axes>"
      ]
     },
     "metadata": {},
     "output_type": "display_data"
    }
   ],
   "source": [
    "value = [576009,1179918,1117059]\n",
    "weather_condition= ['cold','hot','normal']\n",
    "colors=['skyblue','gold','coral']\n",
    "explode=(0.1,0.1,0.1)\n",
    "plt.pie(value,labels=weather_condition,explode=explode,colors=colors,autopct='%.1f%%',shadow=True)"
   ]
  },
  {
   "cell_type": "markdown",
   "id": "7cc641c3",
   "metadata": {},
   "source": [
    "# Most accidents 41.1% happened when the weather is hot "
   ]
  },
  {
   "cell_type": "code",
   "execution_count": 56,
   "id": "7c64f213",
   "metadata": {},
   "outputs": [],
   "source": [
    "# true indicates accidents happened \n",
    "# false indicates that accident didn't took place."
   ]
  },
  {
   "cell_type": "code",
   "execution_count": 57,
   "id": "ead1283a",
   "metadata": {},
   "outputs": [
    {
     "data": {
      "text/plain": [
       "<AxesSubplot:ylabel='Bump'>"
      ]
     },
     "execution_count": 57,
     "metadata": {},
     "output_type": "execute_result"
    },
    {
     "data": {
      "image/png": "[encoded data removed]",
      "text/plain": [
       "<Figure size 640x480 with 1 Axes>"
      ]
     },
     "metadata": {},
     "output_type": "display_data"
    }
   ],
   "source": [
    "df['Bump'].value_counts().plot(kind= 'pie')"
   ]
  },
  {
   "cell_type": "code",
   "execution_count": 58,
   "id": "9e363b68",
   "metadata": {},
   "outputs": [
    {
     "data": {
      "text/plain": [
       "False    2844321\n",
       "True        1021\n",
       "Name: Bump, dtype: int64"
      ]
     },
     "execution_count": 58,
     "metadata": {},
     "output_type": "execute_result"
    }
   ],
   "source": [
    "df['Bump'].value_counts()"
   ]
  },
  {
   "cell_type": "markdown",
   "id": "2ca80b44",
   "metadata": {},
   "source": [
    "# 1021 accidents happened in bump"
   ]
  },
  {
   "cell_type": "code",
   "execution_count": 59,
   "id": "8ffc78b6",
   "metadata": {},
   "outputs": [
    {
     "data": {
      "text/plain": [
       "<AxesSubplot:ylabel='Crossing'>"
      ]
     },
     "execution_count": 59,
     "metadata": {},
     "output_type": "execute_result"
    },
    {
     "data": {
      "image/png": "[encoded data removed]",
      "text/plain": [
       "<Figure size 640x480 with 1 Axes>"
      ]
     },
     "metadata": {},
     "output_type": "display_data"
    }
   ],
   "source": [
    "df['Crossing'].value_counts().plot(kind= 'pie')"
   ]
  },
  {
   "cell_type": "code",
   "execution_count": 60,
   "id": "9f80202d",
   "metadata": {},
   "outputs": [
    {
     "data": {
      "text/plain": [
       "False    2645130\n",
       "True      200212\n",
       "Name: Crossing, dtype: int64"
      ]
     },
     "execution_count": 60,
     "metadata": {},
     "output_type": "execute_result"
    }
   ],
   "source": [
    "df['Crossing'].value_counts()"
   ]
  },
  {
   "cell_type": "markdown",
   "id": "9ad34acc",
   "metadata": {},
   "source": [
    "# 200212 accidents happened near crossings"
   ]
  },
  {
   "cell_type": "code",
   "execution_count": 61,
   "id": "1e3394c4",
   "metadata": {},
   "outputs": [
    {
     "data": {
      "text/plain": [
       "<AxesSubplot:ylabel='Traffic_Signal'>"
      ]
     },
     "execution_count": 61,
     "metadata": {},
     "output_type": "execute_result"
    },
    {
     "data": {
      "image/png": "[encoded data removed]",
      "text/plain": [
       "<Figure size 640x480 with 1 Axes>"
      ]
     },
     "metadata": {},
     "output_type": "display_data"
    }
   ],
   "source": [
    "df['Traffic_Signal'].value_counts().plot(kind= 'pie')"
   ]
  },
  {
   "cell_type": "code",
   "execution_count": 62,
   "id": "f1993b47",
   "metadata": {},
   "outputs": [
    {
     "data": {
      "text/plain": [
       "False    2580079\n",
       "True      265263\n",
       "Name: Traffic_Signal, dtype: int64"
      ]
     },
     "execution_count": 62,
     "metadata": {},
     "output_type": "execute_result"
    }
   ],
   "source": [
    "df['Traffic_Signal'].value_counts()"
   ]
  },
  {
   "cell_type": "markdown",
   "id": "a26a3891",
   "metadata": {},
   "source": [
    "# 265263 accidents happened near traffic signals "
   ]
  },
  {
   "cell_type": "code",
   "execution_count": 63,
   "id": "f0618227",
   "metadata": {},
   "outputs": [
    {
     "data": {
      "text/plain": [
       "<BarContainer object of 3 artists>"
      ]
     },
     "execution_count": 63,
     "metadata": {},
     "output_type": "execute_result"
    },
    {
     "data": {
      "image/png": "[encoded data removed]",
      "text/plain": [
       "<Figure size 1600x900 with 1 Axes>"
      ]
     },
     "metadata": {},
     "output_type": "display_data"
    }
   ],
   "source": [
    "plt.figure(figsize = (16,9))\n",
    "Condition = ['bump','traffic signal','crossings']\n",
    "Total= [ 1021,265263,200212]\n",
    "plt.bar(Condition,Total,color='red')"
   ]
  },
  {
   "cell_type": "markdown",
   "id": "a234ca4b",
   "metadata": {},
   "source": [
    "# Highest number of accidents 265263 happened near traffic signals\n",
    "# Least happened near bumps 1021"
   ]
  },
  {
   "cell_type": "code",
   "execution_count": 64,
   "id": "dbd112de",
   "metadata": {},
   "outputs": [],
   "source": [
    "# accidents happened in ASTRONOMICAL TWILIGHT."
   ]
  },
  {
   "cell_type": "code",
   "execution_count": 65,
   "id": "06a550cd",
   "metadata": {},
   "outputs": [
    {
     "data": {
      "text/plain": [
       "<AxesSubplot:xlabel='Astronomical_Twilight', ylabel='count'>"
      ]
     },
     "execution_count": 65,
     "metadata": {},
     "output_type": "execute_result"
    },
    {
     "data": {
      "image/png": "[encoded data removed]",
      "text/plain": [
       "<Figure size 640x480 with 1 Axes>"
      ]
     },
     "metadata": {},
     "output_type": "display_data"
    }
   ],
   "source": [
    "sns.countplot(x='Astronomical_Twilight',data=df)"
   ]
  },
  {
   "cell_type": "code",
   "execution_count": 66,
   "id": "43eaf2d3",
   "metadata": {},
   "outputs": [
    {
     "data": {
      "text/plain": [
       "Day      2176983\n",
       "Night     665492\n",
       "Name: Astronomical_Twilight, dtype: int64"
      ]
     },
     "execution_count": 66,
     "metadata": {},
     "output_type": "execute_result"
    }
   ],
   "source": [
    "df['Astronomical_Twilight'].value_counts()"
   ]
  },
  {
   "cell_type": "markdown",
   "id": "5ec16ef4",
   "metadata": {},
   "source": [
    "# ASTRONOMICAL TWILIGHT\n",
    "# Higher number i.e 2176983 of accidents occur in daytime.\n",
    "# 665492 occur in Night"
   ]
  },
  {
   "cell_type": "code",
   "execution_count": 70,
   "id": "a39fea95",
   "metadata": {},
   "outputs": [
    {
     "data": {
      "text/plain": [
       "<AxesSubplot:xlabel='Nautical_Twilight', ylabel='count'>"
      ]
     },
     "execution_count": 70,
     "metadata": {},
     "output_type": "execute_result"
    },
    {
     "data": {
      "image/png": "[encoded data removed]",
      "text/plain": [
       "<Figure size 640x480 with 1 Axes>"
      ]
     },
     "metadata": {},
     "output_type": "display_data"
    }
   ],
   "source": [
    "# ACCIDENTS OCCUR IN NAUTICAL TWILIGHT\n",
    "sns.countplot(x='Nautical_Twilight',data=df)"
   ]
  },
  {
   "cell_type": "code",
   "execution_count": 71,
   "id": "133d3144",
   "metadata": {},
   "outputs": [
    {
     "data": {
      "text/plain": [
       "Day      2063472\n",
       "Night     779003\n",
       "Name: Nautical_Twilight, dtype: int64"
      ]
     },
     "execution_count": 71,
     "metadata": {},
     "output_type": "execute_result"
    }
   ],
   "source": [
    "df['Nautical_Twilight'].value_counts()"
   ]
  },
  {
   "cell_type": "markdown",
   "id": "da71d28b",
   "metadata": {},
   "source": [
    "# NAUTICAL TWILIGHT\n",
    "# Accidents occur in Day 2063472\n",
    "# Accidents occur in night 779003\n"
   ]
  },
  {
   "cell_type": "code",
   "execution_count": 72,
   "id": "ffdefb13",
   "metadata": {},
   "outputs": [
    {
     "data": {
      "text/plain": [
       "<AxesSubplot:xlabel='Civil_Twilight', ylabel='count'>"
      ]
     },
     "execution_count": 72,
     "metadata": {},
     "output_type": "execute_result"
    },
    {
     "data": {
      "image/png": "[encoded data removed]",
      "text/plain": [
       "<Figure size 640x480 with 1 Axes>"
      ]
     },
     "metadata": {},
     "output_type": "display_data"
    }
   ],
   "source": [
    "# accidents occur in civil twilight\n",
    "sns.countplot(x='Civil_Twilight',data=df)"
   ]
  },
  {
   "cell_type": "code",
   "execution_count": 73,
   "id": "953d55ef",
   "metadata": {},
   "outputs": [
    {
     "data": {
      "text/plain": [
       "Day      1929103\n",
       "Night     913372\n",
       "Name: Civil_Twilight, dtype: int64"
      ]
     },
     "execution_count": 73,
     "metadata": {},
     "output_type": "execute_result"
    }
   ],
   "source": [
    "df['Civil_Twilight'].value_counts()"
   ]
  },
  {
   "cell_type": "markdown",
   "id": "4b24a4bb",
   "metadata": {},
   "source": [
    "# CIVIL TWILIGHT\n",
    "# Accidents occur in Day 1929103\n",
    "# Accidents occur in night 913372\n"
   ]
  },
  {
   "cell_type": "code",
   "execution_count": 67,
   "id": "19d6b5c4",
   "metadata": {},
   "outputs": [
    {
     "data": {
      "text/plain": [
       "<AxesSubplot:xlabel='Severity', ylabel='count'>"
      ]
     },
     "execution_count": 67,
     "metadata": {},
     "output_type": "execute_result"
    },
    {
     "data": {
      "image/png": "[encoded data removed]",
      "text/plain": [
       "<Figure size 640x480 with 1 Axes>"
      ]
     },
     "metadata": {},
     "output_type": "display_data"
    }
   ],
   "source": [
    "#Severity of accidents\n",
    "sns.countplot(x='Severity',data=df)"
   ]
  },
  {
   "cell_type": "code",
   "execution_count": 68,
   "id": "6e762423",
   "metadata": {},
   "outputs": [
    {
     "data": {
      "text/plain": [
       "2    2532991\n",
       "3     155105\n",
       "4     131193\n",
       "1      26053\n",
       "Name: Severity, dtype: int64"
      ]
     },
     "execution_count": 68,
     "metadata": {},
     "output_type": "execute_result"
    }
   ],
   "source": [
    "# severity between  1 and 4, where 1 indicates the least impact on traffic , 2 indicates normal\n",
    "# 3 indicates intense and 4 indicates very intense\n",
    "df['Severity'].value_counts()"
   ]
  },
  {
   "cell_type": "markdown",
   "id": "dc71aa87",
   "metadata": {},
   "source": [
    "# 131193 accidents are very severe\n",
    "# 26053 accidents are low impact"
   ]
  },
  {
   "cell_type": "code",
   "execution_count": 74,
   "id": "b4232a06",
   "metadata": {},
   "outputs": [
    {
     "data": {
      "text/plain": [
       "<AxesSubplot:xlabel='Timezone', ylabel='count'>"
      ]
     },
     "execution_count": 74,
     "metadata": {},
     "output_type": "execute_result"
    },
    {
     "data": {
      "image/png": "[encoded data removed]",
      "text/plain": [
       "<Figure size 640x480 with 1 Axes>"
      ]
     },
     "metadata": {},
     "output_type": "display_data"
    }
   ],
   "source": [
    "# accidents and timezone\n",
    "sns.countplot(x='Timezone',data=df)"
   ]
  },
  {
   "cell_type": "code",
   "execution_count": 77,
   "id": "6da99ced",
   "metadata": {},
   "outputs": [
    {
     "data": {
      "image/png": "[encoded data removed]",
      "text/plain": [
       "<Figure size 640x480 with 1 Axes>"
      ]
     },
     "metadata": {},
     "output_type": "display_data"
    }
   ],
   "source": [
    "df['Timezone'].value_counts().plot(kind= 'pie',autopct='%.1f%%')"
   ]
  },
  {
   "cell_type": "markdown",
   "id": "c9f14767",
   "metadata": {},
   "source": [
    "# Most numbers of accidents took place in regions with timezone: \n",
    "# Eastern Standard Time (43.0%)\n",
    "# followed by Pacific Standard Time(34.0%)\n",
    "\n"
   ]
  },
  {
   "cell_type": "code",
   "execution_count": 83,
   "id": "9b160253",
   "metadata": {},
   "outputs": [
    {
     "data": {
      "text/plain": [
       "10.0    2230276\n",
       "7.0       79649\n",
       "9.0       68817\n",
       "8.0       55955\n",
       "5.0       53933\n",
       "6.0       49051\n",
       "2.0       46160\n",
       "4.0       45437\n",
       "3.0       44012\n",
       "1.0       38445\n",
       "Name: Visibility(mi), dtype: int64"
      ]
     },
     "execution_count": 83,
     "metadata": {},
     "output_type": "execute_result"
    }
   ],
   "source": [
    "# visibility and accidents.\n",
    "df['Visibility(mi)'].value_counts().head(10)"
   ]
  },
  {
   "cell_type": "code",
   "execution_count": 85,
   "id": "8a3ac070",
   "metadata": {},
   "outputs": [
    {
     "data": {
      "text/plain": [
       "[<matplotlib.lines.Line2D at 0x243f50780a0>]"
      ]
     },
     "execution_count": 85,
     "metadata": {},
     "output_type": "execute_result"
    },
    {
     "data": {
      "image/png": "[encoded data removed]",
      "text/plain": [
       "<Figure size 640x480 with 1 Axes>"
      ]
     },
     "metadata": {},
     "output_type": "display_data"
    }
   ],
   "source": [
    "x=np.array([10,9,8,7,6,5,4,3,2,1])\n",
    "y=np.array([2230276,79649, 68817,55955,53933,49051, 46160,45437,44012, 38445])\n",
    "plt.xlabel('visibility')\n",
    "plt.ylabel('accidents')\n",
    "plt.title(\"visibility analysis\")\n",
    "plt.plot(x,y)"
   ]
  },
  {
   "cell_type": "markdown",
   "id": "bf2b077a",
   "metadata": {},
   "source": [
    " # Most  accidents occurred when visibility was high, means that visibility is not a significant concern when it comes to accidents."
   ]
  },
  {
   "cell_type": "markdown",
   "id": "2cbe3c30",
   "metadata": {},
   "source": [
    "# Feature Engineering"
   ]
  },
  {
   "cell_type": "code",
   "execution_count": 114,
   "id": "a715a862",
   "metadata": {},
   "outputs": [
    {
     "data": {
      "text/plain": [
       "<seaborn.axisgrid.FacetGrid at 0x2445b6c9580>"
      ]
     },
     "execution_count": 114,
     "metadata": {},
     "output_type": "execute_result"
    },
    {
     "data": {
      "image/png": "[encoded data removed]",
      "text/plain": [
       "<Figure size 640x480 with 1 Axes>"
      ]
     },
     "metadata": {},
     "output_type": "display_data"
    },
    {
     "data": {
      "image/png": "[encoded data removed]",
      "text/plain": [
       "<Figure size 500x500 with 1 Axes>"
      ]
     },
     "metadata": {},
     "output_type": "display_data"
    }
   ],
   "source": [
    "# Plotting the Distribution plots for the features\n",
    "plt.subplot(1,2,1)\n",
    "sns.displot(df['Distance(mi)'])\n",
    "\n"
   ]
  },
  {
   "cell_type": "code",
   "execution_count": 115,
   "id": "746d0b93",
   "metadata": {},
   "outputs": [
    {
     "name": "stderr",
     "output_type": "stream",
     "text": [
      "C:\\Users\\Admin\\anaconda3\\lib\\site-packages\\seaborn\\_decorators.py:36: FutureWarning: Pass the following variable as a keyword arg: x. From version 0.12, the only valid positional argument will be `data`, and passing other arguments without an explicit keyword will result in an error or misinterpretation.\n",
      "  warnings.warn(\n"
     ]
    },
    {
     "data": {
      "text/plain": [
       "<AxesSubplot:xlabel='Distance(mi)'>"
      ]
     },
     "execution_count": 115,
     "metadata": {},
     "output_type": "execute_result"
    },
    {
     "data": {
      "image/png": "[encoded data removed]",
      "text/plain": [
       "<Figure size 640x480 with 1 Axes>"
      ]
     },
     "metadata": {},
     "output_type": "display_data"
    }
   ],
   "source": [
    "sns.boxplot(df['Distance(mi)'])"
   ]
  },
  {
   "cell_type": "code",
   "execution_count": 117,
   "id": "c5c14b89",
   "metadata": {},
   "outputs": [
    {
     "data": {
      "text/plain": [
       "5.383760370624987"
      ]
     },
     "execution_count": 117,
     "metadata": {},
     "output_type": "execute_result"
    }
   ],
   "source": [
    "# finding boundary values\n",
    "Highest=df['Distance(mi)'].mean() + 3*df['Distance(mi)'].std()\n",
    "Highest"
   ]
  },
  {
   "cell_type": "code",
   "execution_count": 118,
   "id": "f58a9a54",
   "metadata": {},
   "outputs": [
    {
     "data": {
      "text/plain": [
       "-3.978404581408851"
      ]
     },
     "execution_count": 118,
     "metadata": {},
     "output_type": "execute_result"
    }
   ],
   "source": [
    "Lowest=df['Distance(mi)'].mean() - 3*df['Distance(mi)'].std()\n",
    "Lowest"
   ]
  },
  {
   "cell_type": "code",
   "execution_count": 120,
   "id": "431f2d4a",
   "metadata": {},
   "outputs": [
    {
     "data": {
      "text/html": [
       "<div>\n",
       "<style scoped>\n",
       "    .dataframe tbody tr th:only-of-type {\n",
       "        vertical-align: middle;\n",
       "    }\n",
       "\n",
       "    .dataframe tbody tr th {\n",
       "        vertical-align: top;\n",
       "    }\n",
       "\n",
       "    .dataframe thead th {\n",
       "        text-align: right;\n",
       "    }\n",
       "</style>\n",
       "<table border=\"1\" class=\"dataframe\">\n",
       "  <thead>\n",
       "    <tr style=\"text-align: right;\">\n",
       "      <th></th>\n",
       "      <th>ID</th>\n",
       "      <th>Severity</th>\n",
       "      <th>Start_Time</th>\n",
       "      <th>End_Time</th>\n",
       "      <th>Start_Lat</th>\n",
       "      <th>Start_Lng</th>\n",
       "      <th>End_Lat</th>\n",
       "      <th>End_Lng</th>\n",
       "      <th>Distance(mi)</th>\n",
       "      <th>Description</th>\n",
       "      <th>...</th>\n",
       "      <th>Roundabout</th>\n",
       "      <th>Station</th>\n",
       "      <th>Stop</th>\n",
       "      <th>Traffic_Calming</th>\n",
       "      <th>Traffic_Signal</th>\n",
       "      <th>Turning_Loop</th>\n",
       "      <th>Sunrise_Sunset</th>\n",
       "      <th>Civil_Twilight</th>\n",
       "      <th>Nautical_Twilight</th>\n",
       "      <th>Astronomical_Twilight</th>\n",
       "    </tr>\n",
       "  </thead>\n",
       "  <tbody>\n",
       "    <tr>\n",
       "      <th>29</th>\n",
       "      <td>A-30</td>\n",
       "      <td>3</td>\n",
       "      <td>2016-02-09 07:48:40</td>\n",
       "      <td>2016-02-09 13:48:40</td>\n",
       "      <td>39.363800</td>\n",
       "      <td>-85.516590</td>\n",
       "      <td>39.452790</td>\n",
       "      <td>-85.628000</td>\n",
       "      <td>8.554</td>\n",
       "      <td>Between US-421/Exit 132 and US-421/Exit 123 - ...</td>\n",
       "      <td>...</td>\n",
       "      <td>False</td>\n",
       "      <td>False</td>\n",
       "      <td>False</td>\n",
       "      <td>False</td>\n",
       "      <td>False</td>\n",
       "      <td>False</td>\n",
       "      <td>Day</td>\n",
       "      <td>Day</td>\n",
       "      <td>Day</td>\n",
       "      <td>Day</td>\n",
       "    </tr>\n",
       "    <tr>\n",
       "      <th>30</th>\n",
       "      <td>A-31</td>\n",
       "      <td>3</td>\n",
       "      <td>2016-02-09 07:48:40</td>\n",
       "      <td>2016-02-09 13:48:40</td>\n",
       "      <td>39.451320</td>\n",
       "      <td>-85.625160</td>\n",
       "      <td>39.362770</td>\n",
       "      <td>-85.516550</td>\n",
       "      <td>8.429</td>\n",
       "      <td>Between US-421/Exit 123 and US-421/Exit 132 - ...</td>\n",
       "      <td>...</td>\n",
       "      <td>False</td>\n",
       "      <td>False</td>\n",
       "      <td>False</td>\n",
       "      <td>False</td>\n",
       "      <td>False</td>\n",
       "      <td>False</td>\n",
       "      <td>Day</td>\n",
       "      <td>Day</td>\n",
       "      <td>Day</td>\n",
       "      <td>Day</td>\n",
       "    </tr>\n",
       "    <tr>\n",
       "      <th>42</th>\n",
       "      <td>A-43</td>\n",
       "      <td>4</td>\n",
       "      <td>2016-02-09 18:20:58</td>\n",
       "      <td>2016-02-10 00:20:58</td>\n",
       "      <td>40.451120</td>\n",
       "      <td>-85.150480</td>\n",
       "      <td>40.354290</td>\n",
       "      <td>-85.149930</td>\n",
       "      <td>6.690</td>\n",
       "      <td>Closed between IN-26 and IN-67 - Road closed d...</td>\n",
       "      <td>...</td>\n",
       "      <td>False</td>\n",
       "      <td>False</td>\n",
       "      <td>False</td>\n",
       "      <td>False</td>\n",
       "      <td>False</td>\n",
       "      <td>False</td>\n",
       "      <td>Night</td>\n",
       "      <td>Day</td>\n",
       "      <td>Day</td>\n",
       "      <td>Day</td>\n",
       "    </tr>\n",
       "    <tr>\n",
       "      <th>43</th>\n",
       "      <td>A-44</td>\n",
       "      <td>4</td>\n",
       "      <td>2016-02-09 18:20:58</td>\n",
       "      <td>2016-02-10 00:20:58</td>\n",
       "      <td>40.354290</td>\n",
       "      <td>-85.149930</td>\n",
       "      <td>40.451120</td>\n",
       "      <td>-85.150480</td>\n",
       "      <td>6.690</td>\n",
       "      <td>Closed between IN-67 and IN-26 - Road closed d...</td>\n",
       "      <td>...</td>\n",
       "      <td>False</td>\n",
       "      <td>False</td>\n",
       "      <td>False</td>\n",
       "      <td>False</td>\n",
       "      <td>False</td>\n",
       "      <td>False</td>\n",
       "      <td>Night</td>\n",
       "      <td>Day</td>\n",
       "      <td>Day</td>\n",
       "      <td>Day</td>\n",
       "    </tr>\n",
       "    <tr>\n",
       "      <th>64</th>\n",
       "      <td>A-65</td>\n",
       "      <td>2</td>\n",
       "      <td>2016-02-10 11:09:08</td>\n",
       "      <td>2016-02-10 17:09:08</td>\n",
       "      <td>38.969430</td>\n",
       "      <td>-80.109600</td>\n",
       "      <td>39.002630</td>\n",
       "      <td>-80.226470</td>\n",
       "      <td>6.683</td>\n",
       "      <td>At Talbott Rd - Accident.</td>\n",
       "      <td>...</td>\n",
       "      <td>False</td>\n",
       "      <td>False</td>\n",
       "      <td>False</td>\n",
       "      <td>False</td>\n",
       "      <td>False</td>\n",
       "      <td>False</td>\n",
       "      <td>Day</td>\n",
       "      <td>Day</td>\n",
       "      <td>Day</td>\n",
       "      <td>Day</td>\n",
       "    </tr>\n",
       "    <tr>\n",
       "      <th>...</th>\n",
       "      <td>...</td>\n",
       "      <td>...</td>\n",
       "      <td>...</td>\n",
       "      <td>...</td>\n",
       "      <td>...</td>\n",
       "      <td>...</td>\n",
       "      <td>...</td>\n",
       "      <td>...</td>\n",
       "      <td>...</td>\n",
       "      <td>...</td>\n",
       "      <td>...</td>\n",
       "      <td>...</td>\n",
       "      <td>...</td>\n",
       "      <td>...</td>\n",
       "      <td>...</td>\n",
       "      <td>...</td>\n",
       "      <td>...</td>\n",
       "      <td>...</td>\n",
       "      <td>...</td>\n",
       "      <td>...</td>\n",
       "      <td>...</td>\n",
       "    </tr>\n",
       "    <tr>\n",
       "      <th>2845006</th>\n",
       "      <td>A-2845007</td>\n",
       "      <td>4</td>\n",
       "      <td>2019-08-23 10:18:28</td>\n",
       "      <td>2019-08-23 15:18:06</td>\n",
       "      <td>27.703600</td>\n",
       "      <td>-80.895270</td>\n",
       "      <td>27.597810</td>\n",
       "      <td>-80.820760</td>\n",
       "      <td>8.615</td>\n",
       "      <td>Closed between S Canoe Creek Rd and Fort Drum ...</td>\n",
       "      <td>...</td>\n",
       "      <td>False</td>\n",
       "      <td>False</td>\n",
       "      <td>False</td>\n",
       "      <td>False</td>\n",
       "      <td>False</td>\n",
       "      <td>False</td>\n",
       "      <td>Day</td>\n",
       "      <td>Day</td>\n",
       "      <td>Day</td>\n",
       "      <td>Day</td>\n",
       "    </tr>\n",
       "    <tr>\n",
       "      <th>2845012</th>\n",
       "      <td>A-2845013</td>\n",
       "      <td>4</td>\n",
       "      <td>2019-08-23 13:32:30</td>\n",
       "      <td>2019-08-23 14:01:51</td>\n",
       "      <td>30.328189</td>\n",
       "      <td>-82.959449</td>\n",
       "      <td>30.278070</td>\n",
       "      <td>-82.813450</td>\n",
       "      <td>9.372</td>\n",
       "      <td>Closed at CR-137/Exit 292 - Road closed due to...</td>\n",
       "      <td>...</td>\n",
       "      <td>False</td>\n",
       "      <td>False</td>\n",
       "      <td>False</td>\n",
       "      <td>False</td>\n",
       "      <td>False</td>\n",
       "      <td>False</td>\n",
       "      <td>Day</td>\n",
       "      <td>Day</td>\n",
       "      <td>Day</td>\n",
       "      <td>Day</td>\n",
       "    </tr>\n",
       "    <tr>\n",
       "      <th>2845015</th>\n",
       "      <td>A-2845016</td>\n",
       "      <td>4</td>\n",
       "      <td>2019-08-23 15:18:43</td>\n",
       "      <td>2019-08-23 15:47:31</td>\n",
       "      <td>31.649883</td>\n",
       "      <td>-81.397063</td>\n",
       "      <td>31.525790</td>\n",
       "      <td>-81.445500</td>\n",
       "      <td>9.036</td>\n",
       "      <td>Closed at GA-57/GA-99/Exit 58 - Road closed du...</td>\n",
       "      <td>...</td>\n",
       "      <td>False</td>\n",
       "      <td>False</td>\n",
       "      <td>False</td>\n",
       "      <td>False</td>\n",
       "      <td>False</td>\n",
       "      <td>False</td>\n",
       "      <td>Day</td>\n",
       "      <td>Day</td>\n",
       "      <td>Day</td>\n",
       "      <td>Day</td>\n",
       "    </tr>\n",
       "    <tr>\n",
       "      <th>2845058</th>\n",
       "      <td>A-2845059</td>\n",
       "      <td>4</td>\n",
       "      <td>2019-08-23 15:45:50</td>\n",
       "      <td>2019-08-23 16:15:38</td>\n",
       "      <td>31.849320</td>\n",
       "      <td>-86.643010</td>\n",
       "      <td>31.647670</td>\n",
       "      <td>-86.778640</td>\n",
       "      <td>16.051</td>\n",
       "      <td>Closed between AL-185/AL-10-TRUCK/Exit 130 and...</td>\n",
       "      <td>...</td>\n",
       "      <td>False</td>\n",
       "      <td>False</td>\n",
       "      <td>False</td>\n",
       "      <td>False</td>\n",
       "      <td>False</td>\n",
       "      <td>False</td>\n",
       "      <td>Day</td>\n",
       "      <td>Day</td>\n",
       "      <td>Day</td>\n",
       "      <td>Day</td>\n",
       "    </tr>\n",
       "    <tr>\n",
       "      <th>2845214</th>\n",
       "      <td>A-2845215</td>\n",
       "      <td>2</td>\n",
       "      <td>2019-08-23 12:14:24</td>\n",
       "      <td>2019-08-23 16:14:24</td>\n",
       "      <td>42.174922</td>\n",
       "      <td>-122.659391</td>\n",
       "      <td>42.076971</td>\n",
       "      <td>-122.602169</td>\n",
       "      <td>7.376</td>\n",
       "      <td>Between OR-66/Exit 14 and Old Siskiyou Hwy/Exi...</td>\n",
       "      <td>...</td>\n",
       "      <td>False</td>\n",
       "      <td>False</td>\n",
       "      <td>False</td>\n",
       "      <td>False</td>\n",
       "      <td>False</td>\n",
       "      <td>False</td>\n",
       "      <td>Day</td>\n",
       "      <td>Day</td>\n",
       "      <td>Day</td>\n",
       "      <td>Day</td>\n",
       "    </tr>\n",
       "  </tbody>\n",
       "</table>\n",
       "<p>41028 rows × 47 columns</p>\n",
       "</div>"
      ],
      "text/plain": [
       "                ID  Severity           Start_Time             End_Time  \\\n",
       "29            A-30         3  2016-02-09 07:48:40  2016-02-09 13:48:40   \n",
       "30            A-31         3  2016-02-09 07:48:40  2016-02-09 13:48:40   \n",
       "42            A-43         4  2016-02-09 18:20:58  2016-02-10 00:20:58   \n",
       "43            A-44         4  2016-02-09 18:20:58  2016-02-10 00:20:58   \n",
       "64            A-65         2  2016-02-10 11:09:08  2016-02-10 17:09:08   \n",
       "...            ...       ...                  ...                  ...   \n",
       "2845006  A-2845007         4  2019-08-23 10:18:28  2019-08-23 15:18:06   \n",
       "2845012  A-2845013         4  2019-08-23 13:32:30  2019-08-23 14:01:51   \n",
       "2845015  A-2845016         4  2019-08-23 15:18:43  2019-08-23 15:47:31   \n",
       "2845058  A-2845059         4  2019-08-23 15:45:50  2019-08-23 16:15:38   \n",
       "2845214  A-2845215         2  2019-08-23 12:14:24  2019-08-23 16:14:24   \n",
       "\n",
       "         Start_Lat   Start_Lng    End_Lat     End_Lng  Distance(mi)  \\\n",
       "29       39.363800  -85.516590  39.452790  -85.628000         8.554   \n",
       "30       39.451320  -85.625160  39.362770  -85.516550         8.429   \n",
       "42       40.451120  -85.150480  40.354290  -85.149930         6.690   \n",
       "43       40.354290  -85.149930  40.451120  -85.150480         6.690   \n",
       "64       38.969430  -80.109600  39.002630  -80.226470         6.683   \n",
       "...            ...         ...        ...         ...           ...   \n",
       "2845006  27.703600  -80.895270  27.597810  -80.820760         8.615   \n",
       "2845012  30.328189  -82.959449  30.278070  -82.813450         9.372   \n",
       "2845015  31.649883  -81.397063  31.525790  -81.445500         9.036   \n",
       "2845058  31.849320  -86.643010  31.647670  -86.778640        16.051   \n",
       "2845214  42.174922 -122.659391  42.076971 -122.602169         7.376   \n",
       "\n",
       "                                               Description  ...  Roundabout  \\\n",
       "29       Between US-421/Exit 132 and US-421/Exit 123 - ...  ...       False   \n",
       "30       Between US-421/Exit 123 and US-421/Exit 132 - ...  ...       False   \n",
       "42       Closed between IN-26 and IN-67 - Road closed d...  ...       False   \n",
       "43       Closed between IN-67 and IN-26 - Road closed d...  ...       False   \n",
       "64                               At Talbott Rd - Accident.  ...       False   \n",
       "...                                                    ...  ...         ...   \n",
       "2845006  Closed between S Canoe Creek Rd and Fort Drum ...  ...       False   \n",
       "2845012  Closed at CR-137/Exit 292 - Road closed due to...  ...       False   \n",
       "2845015  Closed at GA-57/GA-99/Exit 58 - Road closed du...  ...       False   \n",
       "2845058  Closed between AL-185/AL-10-TRUCK/Exit 130 and...  ...       False   \n",
       "2845214  Between OR-66/Exit 14 and Old Siskiyou Hwy/Exi...  ...       False   \n",
       "\n",
       "        Station   Stop Traffic_Calming Traffic_Signal Turning_Loop  \\\n",
       "29        False  False           False          False        False   \n",
       "30        False  False           False          False        False   \n",
       "42        False  False           False          False        False   \n",
       "43        False  False           False          False        False   \n",
       "64        False  False           False          False        False   \n",
       "...         ...    ...             ...            ...          ...   \n",
       "2845006   False  False           False          False        False   \n",
       "2845012   False  False           False          False        False   \n",
       "2845015   False  False           False          False        False   \n",
       "2845058   False  False           False          False        False   \n",
       "2845214   False  False           False          False        False   \n",
       "\n",
       "        Sunrise_Sunset Civil_Twilight Nautical_Twilight Astronomical_Twilight  \n",
       "29                 Day            Day               Day                   Day  \n",
       "30                 Day            Day               Day                   Day  \n",
       "42               Night            Day               Day                   Day  \n",
       "43               Night            Day               Day                   Day  \n",
       "64                 Day            Day               Day                   Day  \n",
       "...                ...            ...               ...                   ...  \n",
       "2845006            Day            Day               Day                   Day  \n",
       "2845012            Day            Day               Day                   Day  \n",
       "2845015            Day            Day               Day                   Day  \n",
       "2845058            Day            Day               Day                   Day  \n",
       "2845214            Day            Day               Day                   Day  \n",
       "\n",
       "[41028 rows x 47 columns]"
      ]
     },
     "execution_count": 120,
     "metadata": {},
     "output_type": "execute_result"
    }
   ],
   "source": [
    "# FINDING OUTLIERS\n",
    "df[(df['Distance(mi)'] > 5.38) | (df['Distance(mi)'] < -3.97)]\n"
   ]
  },
  {
   "cell_type": "code",
   "execution_count": 124,
   "id": "bac8efb6",
   "metadata": {},
   "outputs": [
    {
     "data": {
      "text/plain": [
       "(2804305, 47)"
      ]
     },
     "execution_count": 124,
     "metadata": {},
     "output_type": "execute_result"
    }
   ],
   "source": [
    "#Trimming of Outliers\n",
    "new_df = df[(df['Distance(mi)'] < 5.38) & (df['Distance(mi)'] > -3.97)]\n",
    "new_df.shape"
   ]
  },
  {
   "cell_type": "code",
   "execution_count": 126,
   "id": "fa703ce5",
   "metadata": {},
   "outputs": [
    {
     "name": "stderr",
     "output_type": "stream",
     "text": [
      "C:\\Users\\Admin\\anaconda3\\lib\\site-packages\\seaborn\\_decorators.py:36: FutureWarning: Pass the following variable as a keyword arg: x. From version 0.12, the only valid positional argument will be `data`, and passing other arguments without an explicit keyword will result in an error or misinterpretation.\n",
      "  warnings.warn(\n"
     ]
    },
    {
     "data": {
      "text/plain": [
       "<AxesSubplot:xlabel='Distance(mi)'>"
      ]
     },
     "execution_count": 126,
     "metadata": {},
     "output_type": "execute_result"
    },
    {
     "data": {
      "image/png": "[encoded data removed]",
      "text/plain": [
       "<Figure size 640x480 with 1 Axes>"
      ]
     },
     "metadata": {},
     "output_type": "display_data"
    }
   ],
   "source": [
    "sns.boxplot(new_df['Distance(mi)'])"
   ]
  },
  {
   "cell_type": "code",
   "execution_count": null,
   "id": "64b0cf2a",
   "metadata": {},
   "outputs": [],
   "source": []
  }
 ],
 "metadata": {
  "kernelspec": {
   "display_name": "Python 3 (ipykernel)",
   "language": "python",
   "name": "python3"
  },
  "language_info": {
   "codemirror_mode": {
    "name": "ipython",
    "version": 3
   },
   "file_extension": ".py",
   "mimetype": "text/x-python",
   "name": "python",
   "nbconvert_exporter": "python",
   "pygments_lexer": "ipython3",
   "version": "3.9.13"
  }
 },
 "nbformat": 4,
 "nbformat_minor": 5
}
